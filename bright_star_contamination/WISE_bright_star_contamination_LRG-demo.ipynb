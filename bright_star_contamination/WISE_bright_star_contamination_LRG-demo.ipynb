{
 "cells": [
  {
   "cell_type": "code",
   "execution_count": null,
   "metadata": {},
   "outputs": [],
   "source": [
    "%matplotlib inline\n",
    "from __future__ import division, print_function\n",
    "import sys, os\n",
    "import numpy as np\n",
    "from astropy.table import Table\n",
    "import fitsio\n",
    "import matplotlib.pyplot as plt\n",
    "from astropy.coordinates import SkyCoord\n",
    "from astropy import units as u\n",
    "import healpy as hp\n",
    "\n",
    "from desitarget.targets import desi_mask\n",
    "from match_coord import search_around, scatter_plot, match_coord"
   ]
  },
  {
   "cell_type": "code",
   "execution_count": null,
   "metadata": {},
   "outputs": [],
   "source": [
    "def relative_density_plot(d_ra, d_dec, d2d, search_radius, ref_density, nbins=101):\n",
    "    bins = np.linspace(-search_radius, search_radius, nbins)\n",
    "    bin_spacing = bins[1] - bins[0]\n",
    "    bincenter = (bins[1:]+bins[:-1])/2\n",
    "    mesh_ra, mesh_dec = np.meshgrid(bincenter, bincenter)\n",
    "    mesh_d2d = np.sqrt(mesh_ra**2 + mesh_dec**2)\n",
    "    mask = (d2d>2.)\n",
    "    density, _, _ = np.histogram2d(d_ra[mask], d_dec[mask], bins=bins)/(bin_spacing**2)\n",
    "    mask = mesh_d2d >= bins.max()-bin_spacing\n",
    "    density[mask] = np.nan\n",
    "    density_ratio = density/ref_density\n",
    "    plt.figure(figsize=(8, 8))\n",
    "    plt.imshow(density_ratio.transpose()-1, origin='lower', aspect='equal', \n",
    "               cmap='seismic', extent=bins.max()*np.array([-1, 1, -1, 1]), vmin=-3, vmax=3)\n",
    "    plt.colorbar(fraction=0.046, pad=0.04)\n",
    "    plt.show()"
   ]
  },
  {
   "cell_type": "code",
   "execution_count": null,
   "metadata": {},
   "outputs": [],
   "source": [
    "params = {'legend.fontsize': 'large',\n",
    "         'axes.labelsize': 'large',\n",
    "         'axes.titlesize':'large',\n",
    "         'xtick.labelsize':'large',\n",
    "         'ytick.labelsize':'large'}\n",
    "plt.rcParams.update(params)"
   ]
  },
  {
   "cell_type": "code",
   "execution_count": null,
   "metadata": {},
   "outputs": [],
   "source": [
    "columns = ['RA', 'DEC', 'DESI_TARGET', 'NOBS_G', 'NOBS_R', 'NOBS_Z']\n",
    "\n",
    "# Select LRG sample from DESI target catalog\n",
    "cat = fitsio.read('/project/projectdirs/desi/target/catalogs/dr7.1/0.22.0/targets-dr7.1-0.22.0.fits', columns=['DESI_TARGET'])\n",
    "print(len(cat))\n",
    "\n",
    "# Select LRGs\n",
    "idx = np.where((cat[\"DESI_TARGET\"] & desi_mask[\"LRG\"])!=0)[0]\n",
    "cat = fitsio.read('/project/projectdirs/desi/target/catalogs/dr7.1/0.22.0/targets-dr7.1-0.22.0.fits', columns=columns, rows=idx)\n",
    "print(len(cat))\n",
    "\n",
    "# Require 2+ exposures in grz\n",
    "mask = (cat['NOBS_G']>=2) & (cat['NOBS_R']>=2) & (cat['NOBS_Z']>=2)\n",
    "cat = cat[mask]\n",
    "print(len(cat))"
   ]
  },
  {
   "cell_type": "code",
   "execution_count": null,
   "metadata": {},
   "outputs": [],
   "source": [
    "# Load trimmed WISE bright star catalog\n",
    "wisecat = Table.read('/global/homes/r/rongpu/mydesi/useful/w1_bright-13.3_trim_dr5_region.fits')\n",
    "print(len(wisecat))\n",
    "wisecat['w1ab'] = np.array(wisecat['W1MPRO']) + 2.7"
   ]
  },
  {
   "cell_type": "code",
   "execution_count": null,
   "metadata": {},
   "outputs": [],
   "source": [
    "plt.figure(figsize=(18, 8))\n",
    "plt.plot(cat['RA'][::5], cat['DEC'][::5], '.', markersize=0.2, alpha=0.2)\n",
    "plt.plot(wisecat['RA'][::5], wisecat['DEC'][::5], '.', markersize=0.3, alpha=0.2)\n",
    "plt.axis([0, 360, -23, 35])\n",
    "plt.show()"
   ]
  },
  {
   "cell_type": "code",
   "execution_count": null,
   "metadata": {},
   "outputs": [],
   "source": [
    "# Select only nearby WISE stars to speed up computation\n",
    "nside = 512\n",
    "pix_area = hp.pixelfunc.nside2pixarea(nside, degrees=True)\n",
    "print('Pixel area:', pix_area)\n",
    "\n",
    "pix_cat = np.unique(hp.pixelfunc.ang2pix(nside, cat['RA'], cat['DEC'], lonlat=True))\n",
    "pix_star = np.unique(hp.pixelfunc.ang2pix(nside, wisecat['RA'], wisecat['DEC'], lonlat=True))\n",
    "\n",
    "pix_cat_ra, pix_cat_dec = hp.pixelfunc.pix2ang(nside, pix_cat, lonlat=True)\n",
    "pix_star_ra, pix_star_dec = hp.pixelfunc.pix2ang(nside, pix_star, lonlat=True)\n",
    "\n",
    "pix_search_radius = 0.5*3600 # arcsec\n",
    "idx_cat, idx_star, _, _, _ = match_coord(pix_cat_ra, pix_cat_dec, pix_star_ra, pix_star_dec, search_radius=pix_search_radius, plot_q=False, verbose=False, keep_all_pairs=True)\n",
    "pix_star_nearby = np.unique(pix_star[idx_star])\n",
    "\n",
    "pix_star_all = hp.pixelfunc.ang2pix(nside, wisecat['RA'], wisecat['DEC'], lonlat=True)\n",
    "mask = np.in1d(pix_star_all, pix_star_nearby)\n",
    "\n",
    "wisecat = wisecat[mask]\n",
    "print(len(wisecat), np.sum(mask)/len(mask))"
   ]
  },
  {
   "cell_type": "code",
   "execution_count": null,
   "metadata": {},
   "outputs": [],
   "source": [
    "plt.figure(figsize=(18, 8))\n",
    "plt.plot(cat['RA'][::5], cat['DEC'][::5], '.', markersize=0.2, alpha=0.2)\n",
    "plt.plot(wisecat['RA'][::5], wisecat['DEC'][::5], '.', markersize=0.3, alpha=0.2)\n",
    "plt.axis([0, 360, -23, 35])\n",
    "plt.show()"
   ]
  },
  {
   "cell_type": "code",
   "execution_count": null,
   "metadata": {},
   "outputs": [],
   "source": [
    "# ra1 = np.array(cat['RA'])\n",
    "# dec1 = np.array(cat['DEC'])\n",
    "# ra2 = np.array(wisecat['RA'])\n",
    "# dec2 = np.array(wisecat['DEC'])\n",
    "\n",
    "# Convert to the ecliptic coordinates\n",
    "c_decals = SkyCoord(ra=cat['RA']*u.degree, dec=cat['DEC']*u.degree, frame='icrs')\n",
    "c_wise = SkyCoord(ra=wisecat['RA']*u.degree, dec=wisecat['DEC']*u.degree, frame='icrs')\n",
    "temp = c_decals.barycentrictrueecliptic\n",
    "ra1, dec1 = np.array(temp.lon), np.array(temp.lat)\n",
    "temp = c_wise.barycentrictrueecliptic\n",
    "ra2, dec2 = np.array(temp.lon), np.array(temp.lat)"
   ]
  },
  {
   "cell_type": "code",
   "execution_count": null,
   "metadata": {
    "scrolled": false
   },
   "outputs": [],
   "source": [
    "w1min, w1max, w1nbins = 8, 12, 5\n",
    "w1mag_bins = np.linspace(w1min, w1max, w1nbins)\n",
    "print(w1mag_bins)"
   ]
  },
  {
   "cell_type": "code",
   "execution_count": null,
   "metadata": {
    "scrolled": false
   },
   "outputs": [],
   "source": [
    "search_radius = 240.\n",
    "\n",
    "# Paramater for estimating the overdensities\n",
    "annulus_min = 180.\n",
    "annulus_max = 240.\n",
    "\n",
    "for index in range(len(w1mag_bins)):\n",
    "    \n",
    "    if index==0:\n",
    "        mask = (wisecat['w1ab']<w1mag_bins[index])\n",
    "        title = 'W1mag < {:.2f}'.format(w1mag_bins[0], np.sum(mask))\n",
    "    else:\n",
    "        mask = (wisecat['w1ab']>w1mag_bins[index-1]) & (wisecat['w1ab']<w1mag_bins[index])\n",
    "        title = '{:.2f} < W1mag < {:.2f}'.format(w1mag_bins[index-1], w1mag_bins[index], np.sum(mask))\n",
    "        \n",
    "    print(title)\n",
    "\n",
    "    idx2, idx1, d2d, d_ra, d_dec = search_around(ra2[mask], dec2[mask], ra1, dec1, search_radius=search_radius)\n",
    "\n",
    "    markersize = np.max([0.01, np.min([10, 0.3*100000/len(idx2)])])    \n",
    "    axis = [-search_radius*1.05, search_radius*1.05, -search_radius*1.05, search_radius*1.05]\n",
    "    axScatter = scatter_plot(d_ra, d_dec, markersize=markersize, alpha=0.4, figsize=6.5, axis=axis, title=title)\n",
    "    \n",
    "    ntot_annulus = np.sum((d2d>annulus_min) & (d2d<annulus_max))\n",
    "    density_annulus = ntot_annulus/(np.pi*(annulus_max**2 - annulus_min**2))\n",
    "    \n",
    "    relative_density_plot(d_ra, d_dec, d2d, search_radius, ref_density=density_annulus)"
   ]
  },
  {
   "cell_type": "code",
   "execution_count": null,
   "metadata": {},
   "outputs": [],
   "source": [
    "w1min, w1max, w1nbins = 12, 16, 5\n",
    "w1mag_bins = np.linspace(w1min, w1max, w1nbins)\n",
    "print(w1mag_bins)"
   ]
  },
  {
   "cell_type": "code",
   "execution_count": null,
   "metadata": {
    "scrolled": false
   },
   "outputs": [],
   "source": [
    "# Zoom in\n",
    "search_radius = 90.\n",
    "\n",
    "# Paramater for estimating the overdensities\n",
    "annulus_min = 60.\n",
    "annulus_max = 90.\n",
    "\n",
    "for index in range(1, len(w1mag_bins)):\n",
    "    \n",
    "    if index==0:\n",
    "        mask = (wisecat['w1ab']<w1mag_bins[index])\n",
    "        title = 'W1mag < {:.2f}'.format(w1mag_bins[0], np.sum(mask))\n",
    "    else:\n",
    "        mask = (wisecat['w1ab']>w1mag_bins[index-1]) & (wisecat['w1ab']<w1mag_bins[index])\n",
    "        title = '{:.2f} < W1mag < {:.2f}'.format(w1mag_bins[index-1], w1mag_bins[index], np.sum(mask))\n",
    "        \n",
    "    print(title)\n",
    "\n",
    "    idx2, idx1, d2d, d_ra, d_dec = search_around(ra2[mask], dec2[mask], ra1, dec1, search_radius=search_radius)\n",
    "\n",
    "    markersize = np.max([0.01, np.min([10, 0.3*100000/len(idx2)])])    \n",
    "    axis = [-search_radius*1.05, search_radius*1.05, -search_radius*1.05, search_radius*1.05]\n",
    "    axScatter = scatter_plot(d_ra, d_dec, markersize=markersize, alpha=0.4, figsize=6.5, axis=axis, title=title)\n",
    "    \n",
    "    ntot_annulus = np.sum((d2d>annulus_min) & (d2d<annulus_max))\n",
    "    density_annulus = ntot_annulus/(np.pi*(annulus_max**2 - annulus_min**2))\n",
    "    \n",
    "    relative_density_plot(d_ra, d_dec, d2d, search_radius, ref_density=density_annulus)"
   ]
  },
  {
   "cell_type": "code",
   "execution_count": null,
   "metadata": {},
   "outputs": [],
   "source": []
  }
 ],
 "metadata": {
  "kernelspec": {
   "display_name": "DESI master",
   "language": "python",
   "name": "desi-master"
  },
  "language_info": {
   "codemirror_mode": {
    "name": "ipython",
    "version": 3
   },
   "file_extension": ".py",
   "mimetype": "text/x-python",
   "name": "python",
   "nbconvert_exporter": "python",
   "pygments_lexer": "ipython3",
   "version": "3.6.6"
  },
  "widgets": {
   "application/vnd.jupyter.widget-state+json": {
    "state": {},
    "version_major": 2,
    "version_minor": 0
   }
  }
 },
 "nbformat": 4,
 "nbformat_minor": 2
}

{
 "cells": [
  {
   "cell_type": "markdown",
   "metadata": {},
   "source": [
    "Running DESI software version 20.7\n",
    "\n",
    "Compare DESI SV redshifts with external redshifts"
   ]
  },
  {
   "cell_type": "code",
   "execution_count": null,
   "metadata": {},
   "outputs": [],
   "source": [
    "from __future__ import division, print_function\n",
    "import sys, os, glob, time, warnings, gc\n",
    "import numpy as np\n",
    "import matplotlib.pyplot as plt\n",
    "from astropy.table import Table, vstack, hstack, join\n",
    "import fitsio\n",
    "# from astropy.io import fits\n",
    "\n",
    "from desitarget import targets\n",
    "from util import compare_redshifts"
   ]
  },
  {
   "cell_type": "code",
   "execution_count": null,
   "metadata": {},
   "outputs": [],
   "source": [
    "params = {'legend.fontsize': 'large',\n",
    "         'axes.labelsize': 'large',\n",
    "         'axes.titlesize':'large',\n",
    "         'xtick.labelsize':'large',\n",
    "         'ytick.labelsize':'large',\n",
    "         'figure.facecolor':'w'} \n",
    "plt.rcParams.update(params)"
   ]
  },
  {
   "cell_type": "code",
   "execution_count": null,
   "metadata": {},
   "outputs": [],
   "source": [
    "# Load redrock catalogs from Blanc deep coadds\n",
    "\n",
    "tileid_list = [80605, 80607, 80609, 80620, 80622]  # December run LRG+QSO tiles\n",
    "data_dir = '/global/cfs/cdirs/desi/spectro/redux/blanc/tiles'\n",
    "\n",
    "zbest_all = []\n",
    "\n",
    "for tileid in tileid_list:\n",
    "    fn_list = sorted(glob.glob(os.path.join(data_dir, str(tileid), 'deep', 'zbest-*.fits')))\n",
    "    zbest = []\n",
    "    for fn in fn_list:\n",
    "        tmp1 = Table.read(fn, hdu='ZBEST')\n",
    "        tmp2 = Table.read(fn, hdu='FIBERMAP')\n",
    "        # remove duplicates in FIBERMAP\n",
    "        _, idx = np.unique(tmp2['TARGETID'], return_index=True)\n",
    "        tmp2 = tmp2[idx]\n",
    "        if not np.all(tmp1['TARGETID']==tmp2['TARGETID']):\n",
    "            raise ValueError()        \n",
    "        tmp = join(tmp1, tmp2, keys='TARGETID', metadata_conflicts='silent')\n",
    "        zbest.append(tmp)\n",
    "    zbest = vstack(zbest)\n",
    "    zbest['tileid'] = tileid\n",
    "    print(tileid, len(zbest))\n",
    "    \n",
    "    zbest_all.append(zbest)\n",
    "    \n",
    "zbest = vstack(zbest_all)\n",
    "print(len(zbest), len(np.unique(zbest['TARGETID'])))"
   ]
  },
  {
   "cell_type": "code",
   "execution_count": null,
   "metadata": {},
   "outputs": [],
   "source": [
    "# Remove FIBERSTATUS!=0 fibers\n",
    "mask = zbest['FIBERSTATUS']==0\n",
    "# Remove ZWARN!=0 fibers in zbest coadds\n",
    "mask &= zbest['ZWARN']==0\n",
    "# Select QSO targets\n",
    "mask &= (zbest['SV1_DESI_TARGET'] & 2**2>0)\n",
    "\n",
    "zbest = zbest[mask]\n",
    "print(len(mask))"
   ]
  },
  {
   "cell_type": "code",
   "execution_count": null,
   "metadata": {
    "scrolled": true
   },
   "outputs": [],
   "source": [
    "# Load DR16Q catalog\n",
    "ls = Table(fitsio.read('/global/cfs/cdirs/desi/target/analysis/truth/dr9.0/south/matched/ls-dr9.0-DR16Q_v4-match.fits', columns=['OBJID', 'BRICKID', 'RELEASE']))\n",
    "truth = Table(fitsio.read('/global/cfs/cdirs/desi/target/analysis/truth/dr9.0/south/matched/DR16Q_v4-match.fits', columns=['Z']))\n",
    "ls['targetid'] = targets.encode_targetid(ls['OBJID'], ls['BRICKID'], ls['RELEASE'])\n",
    "\n",
    "# Match to redrock catalog\n",
    "_, idx_desi, idx_truth = np.intersect1d(zbest['TARGETID'], ls['targetid'], return_indices=True)\n",
    "print('Found {} matched objects'.format(len(idx_desi)))"
   ]
  },
  {
   "cell_type": "code",
   "execution_count": null,
   "metadata": {},
   "outputs": [],
   "source": [
    "outlier_threshold = 0.01\n",
    "compare_redshifts(truth['Z'][idx_truth], zbest['Z'][idx_desi],\n",
    "                markersize=3, alpha=1, zmin=-0.05, zmax=4., outlier_threshold=outlier_threshold, dz_range=0.01,\n",
    "                xlabel='$z_{\\mathrm{SDSS}}$', ylabel='$z_{\\mathrm{DESI}}$', ylabel2='$\\\\Delta z/(1+z_{\\\\mathrm{SDSS}})$')"
   ]
  },
  {
   "cell_type": "code",
   "execution_count": null,
   "metadata": {},
   "outputs": [],
   "source": []
  }
 ],
 "metadata": {
  "kernelspec": {
   "display_name": "DESI 20.7",
   "language": "python",
   "name": "desi-20.7"
  },
  "language_info": {
   "codemirror_mode": {
    "name": "ipython",
    "version": 3
   },
   "file_extension": ".py",
   "mimetype": "text/x-python",
   "name": "python",
   "nbconvert_exporter": "python",
   "pygments_lexer": "ipython3",
   "version": "3.8.3"
  }
 },
 "nbformat": 4,
 "nbformat_minor": 2
}

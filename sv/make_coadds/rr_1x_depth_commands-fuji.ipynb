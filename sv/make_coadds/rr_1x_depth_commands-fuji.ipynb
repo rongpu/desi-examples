{
 "cells": [
  {
   "cell_type": "code",
   "execution_count": 1,
   "metadata": {},
   "outputs": [],
   "source": [
    "from __future__ import division, print_function\n",
    "import sys, os, glob, time, warnings, gc\n",
    "import numpy as np\n",
    "import matplotlib.pyplot as plt\n",
    "from astropy.table import Table, vstack, hstack\n",
    "import fitsio\n",
    "# from astropy.io import fits"
   ]
  },
  {
   "cell_type": "code",
   "execution_count": 2,
   "metadata": {},
   "outputs": [],
   "source": [
    "params = {'legend.fontsize': 'large',\n",
    "         'axes.labelsize': 'large',\n",
    "         'axes.titlesize':'large',\n",
    "         'xtick.labelsize':'large',\n",
    "         'ytick.labelsize':'large',\n",
    "         'figure.facecolor':'w'} \n",
    "plt.rcParams.update(params)"
   ]
  },
  {
   "cell_type": "code",
   "execution_count": 3,
   "metadata": {},
   "outputs": [],
   "source": [
    "indir = '/global/cfs/cdirs/desi/spectro/redux/fuji/exposures'\n",
    "os.environ['INDIR'] = indir\n",
    "\n",
    "overwrite = False"
   ]
  },
  {
   "cell_type": "code",
   "execution_count": 4,
   "metadata": {},
   "outputs": [],
   "source": [
    "subsamp_dict = {'80605': [[74781, 73702],\n",
    "  [67975, 74782],\n",
    "  [68292, 74779],\n",
    "  [68291, 68290],\n",
    "  [74783, 74780]],\n",
    " '80606': [[68630, 67968], [67971, 68812], [67969, 68813, 67970]],\n",
    " '80607': [[67768, 68844],\n",
    "  [68027, 68845],\n",
    "  [67767, 68028, 67766],\n",
    "  [68847, 67744],\n",
    "  [67765, 68846]],\n",
    " '80608': [[68025, 68328],\n",
    "  [67770, 68026],\n",
    "  [67771, 68327],\n",
    "  [67769, 68024],\n",
    "  [68842, 68023],\n",
    "  [68491, 68841]],\n",
    " '80609': [[68489, 67781],\n",
    "  [67784, 68338],\n",
    "  [68336, 68490],\n",
    "  [68064, 68334],\n",
    "  [68340, 67783],\n",
    "  [68063, 68065]],\n",
    " '80610': [[68333, 68477],\n",
    "  [68332, 68331],\n",
    "  [68330, 68042],\n",
    "  [68488, 68041],\n",
    "  [68040, 75116]],\n",
    "\n",
    " '80620': [[68677, 68851], [68676, 68850]],\n",
    " '80678': [[71878, 72681],\n",
    "  [74946, 74943],\n",
    "  [72505, 71876],\n",
    "  [72504, 71877],\n",
    "  [74944, 74945]],\n",
    " '80690': [[71892, 76294],\n",
    "  [75840, 74802, 75841],\n",
    "  [75838, 72515, 72692],\n",
    "  [75842, 75839, 76293],\n",
    "  [74801, 72514],\n",
    "  [74803, 76295]],\n",
    " '80695': [[80944, 79553], [79552, 80943]],\n",
    " '80699': [[72519, 71481], [72518, 71618], [79447, 71619]],\n",
    " '80711': [[75862, 75860, 74462, 75861],\n",
    "  [75859, 72714, 86518],\n",
    "  [74831, 74832],\n",
    "  [72715, 74829, 74830]]}"
   ]
  },
  {
   "cell_type": "code",
   "execution_count": 5,
   "metadata": {},
   "outputs": [
    {
     "name": "stdout",
     "output_type": "stream",
     "text": [
      "62\n"
     ]
    }
   ],
   "source": [
    "# Print the total number of exposures used in the subsets\n",
    "count = 0\n",
    "for tileid in ['80605', '80607', '80609', '80606', '80608', '80610']:\n",
    "    for tmp in subsamp_dict[tileid]:\n",
    "        count += len(tmp)\n",
    "print(count)"
   ]
  },
  {
   "cell_type": "code",
   "execution_count": 6,
   "metadata": {},
   "outputs": [
    {
     "name": "stdout",
     "output_type": "stream",
     "text": [
      "2480 2480\n",
      "113 113\n",
      "113\n"
     ]
    }
   ],
   "source": [
    "cat = Table(fitsio.read('/global/cfs/cdirs/desi/spectro/redux/fuji/exposures-fuji.fits', ext='EXPOSURES'))\n",
    "print(len(cat), len(np.unique(cat['EXPID'])))\n",
    "\n",
    "exp_list = sorted([i for k in subsamp_dict.values() for j in k for i in j])\n",
    "print(len(exp_list), len(np.unique(exp_list)))\n",
    "\n",
    "mask = np.in1d(cat['EXPID'], exp_list)\n",
    "print(np.sum(mask))\n",
    "cat = cat[mask]"
   ]
  },
  {
   "cell_type": "code",
   "execution_count": 7,
   "metadata": {
    "scrolled": true
   },
   "outputs": [
    {
     "data": {
      "text/html": [
       "<i>Table length=113</i>\n",
       "<table id=\"table23455523866656\" class=\"table-striped table-bordered table-condensed\">\n",
       "<thead><tr><th>NIGHT</th><th>EXPID</th><th>TILEID</th></tr></thead>\n",
       "<thead><tr><th>int32</th><th>int32</th><th>int32</th></tr></thead>\n",
       "<tr><td>20201214</td><td>67744</td><td>80607</td></tr>\n",
       "<tr><td>20201214</td><td>67765</td><td>80607</td></tr>\n",
       "<tr><td>20201214</td><td>67766</td><td>80607</td></tr>\n",
       "<tr><td>20201214</td><td>67767</td><td>80607</td></tr>\n",
       "<tr><td>20201214</td><td>67768</td><td>80607</td></tr>\n",
       "<tr><td>20201214</td><td>67769</td><td>80608</td></tr>\n",
       "<tr><td>20201214</td><td>67770</td><td>80608</td></tr>\n",
       "<tr><td>20201214</td><td>67771</td><td>80608</td></tr>\n",
       "<tr><td>20201214</td><td>67781</td><td>80609</td></tr>\n",
       "<tr><td>20201214</td><td>67783</td><td>80609</td></tr>\n",
       "<tr><td>...</td><td>...</td><td>...</td></tr>\n",
       "<tr><td>20210214</td><td>75862</td><td>80711</td></tr>\n",
       "<tr><td>20210216</td><td>76293</td><td>80690</td></tr>\n",
       "<tr><td>20210216</td><td>76294</td><td>80690</td></tr>\n",
       "<tr><td>20210216</td><td>76295</td><td>80690</td></tr>\n",
       "<tr><td>20210305</td><td>79447</td><td>80699</td></tr>\n",
       "<tr><td>20210306</td><td>79552</td><td>80695</td></tr>\n",
       "<tr><td>20210306</td><td>79553</td><td>80695</td></tr>\n",
       "<tr><td>20210318</td><td>80943</td><td>80695</td></tr>\n",
       "<tr><td>20210318</td><td>80944</td><td>80695</td></tr>\n",
       "<tr><td>20210428</td><td>86518</td><td>80711</td></tr>\n",
       "</table>"
      ],
      "text/plain": [
       "<Table length=113>\n",
       " NIGHT   EXPID TILEID\n",
       " int32   int32 int32 \n",
       "-------- ----- ------\n",
       "20201214 67744  80607\n",
       "20201214 67765  80607\n",
       "20201214 67766  80607\n",
       "20201214 67767  80607\n",
       "20201214 67768  80607\n",
       "20201214 67769  80608\n",
       "20201214 67770  80608\n",
       "20201214 67771  80608\n",
       "20201214 67781  80609\n",
       "20201214 67783  80609\n",
       "     ...   ...    ...\n",
       "20210214 75862  80711\n",
       "20210216 76293  80690\n",
       "20210216 76294  80690\n",
       "20210216 76295  80690\n",
       "20210305 79447  80699\n",
       "20210306 79552  80695\n",
       "20210306 79553  80695\n",
       "20210318 80943  80695\n",
       "20210318 80944  80695\n",
       "20210428 86518  80711"
      ]
     },
     "execution_count": 7,
     "metadata": {},
     "output_type": "execute_result"
    }
   ],
   "source": [
    "explist = cat[['NIGHT', 'EXPID', 'TILEID']]\n",
    "explist"
   ]
  },
  {
   "cell_type": "code",
   "execution_count": 8,
   "metadata": {},
   "outputs": [
    {
     "name": "stdout",
     "output_type": "stream",
     "text": [
      "3228\n",
      "113\n"
     ]
    },
    {
     "data": {
      "text/html": [
       "<i>Table length=1</i>\n",
       "<table id=\"table23455523137376\" class=\"table-striped table-bordered table-condensed\">\n",
       "<thead><tr><th>cframe_fn</th><th>tileid</th><th>expid</th><th>camera</th><th>petal_loc</th></tr></thead>\n",
       "<thead><tr><th>str93</th><th>int64</th><th>int64</th><th>str1</th><th>int32</th></tr></thead>\n",
       "<tr><td>/global/cfs/cdirs/desi/spectro/redux/fuji/exposures/20201214/00067744/cframe-r1-00067744.fits</td><td>80607</td><td>67744</td><td>r</td><td>1</td></tr>\n",
       "</table>"
      ],
      "text/plain": [
       "<Table length=1>\n",
       "                                          cframe_fn                                           ...\n",
       "                                            str93                                             ...\n",
       "--------------------------------------------------------------------------------------------- ...\n",
       "/global/cfs/cdirs/desi/spectro/redux/fuji/exposures/20201214/00067744/cframe-r1-00067744.fits ..."
      ]
     },
     "execution_count": 8,
     "metadata": {},
     "output_type": "execute_result"
    }
   ],
   "source": [
    "cframes_stack = []\n",
    "\n",
    "for index in range(len(explist)):\n",
    "    tileid = explist['TILEID'][index]\n",
    "    night = explist['NIGHT'][index]\n",
    "    expid = explist['EXPID'][index]\n",
    "    exposure_dir = os.path.join(indir, str(night), str(expid).zfill(8))\n",
    "    cframe_list = glob.glob(os.path.join(exposure_dir, 'cframe-*'))\n",
    "    if len(cframe_list)==0:\n",
    "        print(exposure_dir, 'is empty')\n",
    "        continue\n",
    "\n",
    "    cframes = Table()\n",
    "    cframes['cframe_fn'] = np.array(cframe_list)\n",
    "    cframes['tileid'] = np.zeros(len(cframes), dtype=int)\n",
    "    cframes['expid'] = np.zeros(len(cframes), dtype=int)\n",
    "    cframes['camera'] = ' '\n",
    "    cframes['petal_loc'] = -1 * np.ones(len(cframes), dtype=np.int32)\n",
    "\n",
    "    for cframe_index, cframe_fn in enumerate(cframe_list):\n",
    "        _, cp, expid1 = os.path.basename(cframe_fn).strip('.fits').split('-')\n",
    "        camera, petal_loc = cp[0], cp[1]\n",
    "        expid1 = int(expid)\n",
    "        if expid1!=expid:\n",
    "            raise ValueError()\n",
    "        cframes['tileid'][cframe_index] = tileid\n",
    "        cframes['expid'][cframe_index] = expid\n",
    "        cframes['camera'][cframe_index] = camera\n",
    "        cframes['petal_loc'][cframe_index] = petal_loc\n",
    "    \n",
    "    cframes_stack.append(cframes)\n",
    "    \n",
    "cframes = vstack(cframes_stack)\n",
    "print(len(cframes))\n",
    "print(len(np.unique(cframes['expid'])))\n",
    "\n",
    "cframes[:1]"
   ]
  },
  {
   "cell_type": "code",
   "execution_count": 9,
   "metadata": {},
   "outputs": [
    {
     "name": "stdout",
     "output_type": "stream",
     "text": [
      "3228 0\n",
      "3228\n"
     ]
    }
   ],
   "source": [
    "cframes['keep'] = False\n",
    "for expid in np.unique(cframes['expid']):\n",
    "    mask = cframes['expid']==expid\n",
    "    for petal_loc in np.arange(10):\n",
    "        mask1 = mask & (cframes['petal_loc']==petal_loc)\n",
    "        if np.sum(mask1)==3:  # require all 3 cameras\n",
    "            cframes['keep'][mask1] = True\n",
    "print(np.sum(cframes['keep']), np.sum(~cframes['keep']))\n",
    "\n",
    "cframes = cframes[cframes['keep']]\n",
    "print(len(cframes))"
   ]
  },
  {
   "cell_type": "code",
   "execution_count": 10,
   "metadata": {},
   "outputs": [],
   "source": [
    "# mask = cframes['tileid']==65008\n",
    "# cframes = cframes[mask]"
   ]
  },
  {
   "cell_type": "code",
   "execution_count": 11,
   "metadata": {},
   "outputs": [
    {
     "name": "stdout",
     "output_type": "stream",
     "text": [
      "1076\n"
     ]
    }
   ],
   "source": [
    "# keep only one camera for simplicity\n",
    "mask = cframes['camera']=='b'\n",
    "cframes = cframes[mask]\n",
    "print(len(cframes))\n",
    "\n",
    "cframes.sort('cframe_fn')"
   ]
  },
  {
   "cell_type": "code",
   "execution_count": 12,
   "metadata": {},
   "outputs": [
    {
     "data": {
      "text/html": [
       "<i>Table length=1076</i>\n",
       "<table id=\"table23455523867520\" class=\"table-striped table-bordered table-condensed\">\n",
       "<thead><tr><th>cframe_fn</th><th>tileid</th><th>expid</th><th>camera</th><th>petal_loc</th><th>keep</th></tr></thead>\n",
       "<thead><tr><th>str93</th><th>int64</th><th>int64</th><th>str1</th><th>int32</th><th>bool</th></tr></thead>\n",
       "<tr><td>/global/cfs/cdirs/desi/spectro/redux/fuji/exposures/20201214/00067744/cframe-b0-00067744.fits</td><td>80607</td><td>67744</td><td>b</td><td>0</td><td>True</td></tr>\n",
       "<tr><td>/global/cfs/cdirs/desi/spectro/redux/fuji/exposures/20201214/00067744/cframe-b1-00067744.fits</td><td>80607</td><td>67744</td><td>b</td><td>1</td><td>True</td></tr>\n",
       "<tr><td>/global/cfs/cdirs/desi/spectro/redux/fuji/exposures/20201214/00067744/cframe-b2-00067744.fits</td><td>80607</td><td>67744</td><td>b</td><td>2</td><td>True</td></tr>\n",
       "<tr><td>/global/cfs/cdirs/desi/spectro/redux/fuji/exposures/20201214/00067744/cframe-b3-00067744.fits</td><td>80607</td><td>67744</td><td>b</td><td>3</td><td>True</td></tr>\n",
       "<tr><td>/global/cfs/cdirs/desi/spectro/redux/fuji/exposures/20201214/00067744/cframe-b4-00067744.fits</td><td>80607</td><td>67744</td><td>b</td><td>4</td><td>True</td></tr>\n",
       "<tr><td>/global/cfs/cdirs/desi/spectro/redux/fuji/exposures/20201214/00067744/cframe-b5-00067744.fits</td><td>80607</td><td>67744</td><td>b</td><td>5</td><td>True</td></tr>\n",
       "<tr><td>/global/cfs/cdirs/desi/spectro/redux/fuji/exposures/20201214/00067744/cframe-b6-00067744.fits</td><td>80607</td><td>67744</td><td>b</td><td>6</td><td>True</td></tr>\n",
       "<tr><td>/global/cfs/cdirs/desi/spectro/redux/fuji/exposures/20201214/00067744/cframe-b7-00067744.fits</td><td>80607</td><td>67744</td><td>b</td><td>7</td><td>True</td></tr>\n",
       "<tr><td>/global/cfs/cdirs/desi/spectro/redux/fuji/exposures/20201214/00067744/cframe-b8-00067744.fits</td><td>80607</td><td>67744</td><td>b</td><td>8</td><td>True</td></tr>\n",
       "<tr><td>/global/cfs/cdirs/desi/spectro/redux/fuji/exposures/20201214/00067744/cframe-b9-00067744.fits</td><td>80607</td><td>67744</td><td>b</td><td>9</td><td>True</td></tr>\n",
       "<tr><td>...</td><td>...</td><td>...</td><td>...</td><td>...</td><td>...</td></tr>\n",
       "<tr><td>/global/cfs/cdirs/desi/spectro/redux/fuji/exposures/20210428/00086518/cframe-b0-00086518.fits</td><td>80711</td><td>86518</td><td>b</td><td>0</td><td>True</td></tr>\n",
       "<tr><td>/global/cfs/cdirs/desi/spectro/redux/fuji/exposures/20210428/00086518/cframe-b1-00086518.fits</td><td>80711</td><td>86518</td><td>b</td><td>1</td><td>True</td></tr>\n",
       "<tr><td>/global/cfs/cdirs/desi/spectro/redux/fuji/exposures/20210428/00086518/cframe-b2-00086518.fits</td><td>80711</td><td>86518</td><td>b</td><td>2</td><td>True</td></tr>\n",
       "<tr><td>/global/cfs/cdirs/desi/spectro/redux/fuji/exposures/20210428/00086518/cframe-b3-00086518.fits</td><td>80711</td><td>86518</td><td>b</td><td>3</td><td>True</td></tr>\n",
       "<tr><td>/global/cfs/cdirs/desi/spectro/redux/fuji/exposures/20210428/00086518/cframe-b4-00086518.fits</td><td>80711</td><td>86518</td><td>b</td><td>4</td><td>True</td></tr>\n",
       "<tr><td>/global/cfs/cdirs/desi/spectro/redux/fuji/exposures/20210428/00086518/cframe-b5-00086518.fits</td><td>80711</td><td>86518</td><td>b</td><td>5</td><td>True</td></tr>\n",
       "<tr><td>/global/cfs/cdirs/desi/spectro/redux/fuji/exposures/20210428/00086518/cframe-b6-00086518.fits</td><td>80711</td><td>86518</td><td>b</td><td>6</td><td>True</td></tr>\n",
       "<tr><td>/global/cfs/cdirs/desi/spectro/redux/fuji/exposures/20210428/00086518/cframe-b7-00086518.fits</td><td>80711</td><td>86518</td><td>b</td><td>7</td><td>True</td></tr>\n",
       "<tr><td>/global/cfs/cdirs/desi/spectro/redux/fuji/exposures/20210428/00086518/cframe-b8-00086518.fits</td><td>80711</td><td>86518</td><td>b</td><td>8</td><td>True</td></tr>\n",
       "<tr><td>/global/cfs/cdirs/desi/spectro/redux/fuji/exposures/20210428/00086518/cframe-b9-00086518.fits</td><td>80711</td><td>86518</td><td>b</td><td>9</td><td>True</td></tr>\n",
       "</table>"
      ],
      "text/plain": [
       "<Table length=1076>\n",
       "                                          cframe_fn                                           ...\n",
       "                                            str93                                             ...\n",
       "--------------------------------------------------------------------------------------------- ...\n",
       "/global/cfs/cdirs/desi/spectro/redux/fuji/exposures/20201214/00067744/cframe-b0-00067744.fits ...\n",
       "/global/cfs/cdirs/desi/spectro/redux/fuji/exposures/20201214/00067744/cframe-b1-00067744.fits ...\n",
       "/global/cfs/cdirs/desi/spectro/redux/fuji/exposures/20201214/00067744/cframe-b2-00067744.fits ...\n",
       "/global/cfs/cdirs/desi/spectro/redux/fuji/exposures/20201214/00067744/cframe-b3-00067744.fits ...\n",
       "/global/cfs/cdirs/desi/spectro/redux/fuji/exposures/20201214/00067744/cframe-b4-00067744.fits ...\n",
       "/global/cfs/cdirs/desi/spectro/redux/fuji/exposures/20201214/00067744/cframe-b5-00067744.fits ...\n",
       "/global/cfs/cdirs/desi/spectro/redux/fuji/exposures/20201214/00067744/cframe-b6-00067744.fits ...\n",
       "/global/cfs/cdirs/desi/spectro/redux/fuji/exposures/20201214/00067744/cframe-b7-00067744.fits ...\n",
       "/global/cfs/cdirs/desi/spectro/redux/fuji/exposures/20201214/00067744/cframe-b8-00067744.fits ...\n",
       "/global/cfs/cdirs/desi/spectro/redux/fuji/exposures/20201214/00067744/cframe-b9-00067744.fits ...\n",
       "                                                                                          ... ...\n",
       "/global/cfs/cdirs/desi/spectro/redux/fuji/exposures/20210428/00086518/cframe-b0-00086518.fits ...\n",
       "/global/cfs/cdirs/desi/spectro/redux/fuji/exposures/20210428/00086518/cframe-b1-00086518.fits ...\n",
       "/global/cfs/cdirs/desi/spectro/redux/fuji/exposures/20210428/00086518/cframe-b2-00086518.fits ...\n",
       "/global/cfs/cdirs/desi/spectro/redux/fuji/exposures/20210428/00086518/cframe-b3-00086518.fits ...\n",
       "/global/cfs/cdirs/desi/spectro/redux/fuji/exposures/20210428/00086518/cframe-b4-00086518.fits ...\n",
       "/global/cfs/cdirs/desi/spectro/redux/fuji/exposures/20210428/00086518/cframe-b5-00086518.fits ...\n",
       "/global/cfs/cdirs/desi/spectro/redux/fuji/exposures/20210428/00086518/cframe-b6-00086518.fits ...\n",
       "/global/cfs/cdirs/desi/spectro/redux/fuji/exposures/20210428/00086518/cframe-b7-00086518.fits ...\n",
       "/global/cfs/cdirs/desi/spectro/redux/fuji/exposures/20210428/00086518/cframe-b8-00086518.fits ...\n",
       "/global/cfs/cdirs/desi/spectro/redux/fuji/exposures/20210428/00086518/cframe-b9-00086518.fits ..."
      ]
     },
     "execution_count": 12,
     "metadata": {},
     "output_type": "execute_result"
    }
   ],
   "source": [
    "cframes"
   ]
  },
  {
   "cell_type": "markdown",
   "metadata": {},
   "source": [
    "------\n",
    "## 1X depth coadds"
   ]
  },
  {
   "cell_type": "markdown",
   "metadata": {},
   "source": [
    "Initial setup:\n",
    "```\n",
    "source $CFS/desi/software/desi_environment.sh 22.1b\n",
    "module swap desispec/0.51.8\n",
    "module swap redrock/0.15.3\n",
    "export SPECPROD=fuji\n",
    "export DESI_SPECTRO_CALIB=/global/cfs/cdirs/desi/spectro/desi_spectro_calib/0.3.1\n",
    "\n",
    "export INDIR=/global/cfs/cdirs/desi/spectro/redux/fuji/exposures\n",
    "export OUTDIR=/global/cfs/cdirs/desi/users/rongpu/fuji/1x_depth\n",
    "\n",
    "module load parallel\n",
    "```\n",
    "\n",
    "Run desi_group_spectra:\n",
    "```\n",
    "salloc -N 20 -C haswell -q interactive -t 4:00:00\n",
    "parallel --jobs 20 --delay 1 < desi_group_spectra_1x.txt ; exit\n",
    "```\n",
    "\n",
    "Run desi_coadd_spectra:\n",
    "```\n",
    "salloc -N 1 -C haswell -q interactive -t 4:00:00\n",
    "parallel --jobs 16 < desi_coadd_spectra_1x.txt ; exit\n",
    "```\n",
    "\n",
    "Run redrock:\n",
    "```\n",
    "salloc -N 20 --qos interactive -C haswell -t 4:00:00\n",
    "parallel --jobs 20 --delay 1 < rrdesi_1x.txt ; exit\n",
    "```\n",
    "\n",
    "Run QSO afterburners:\n",
    "\n",
    "```\n",
    "salloc -N 10 --qos interactive -C haswell -t 4:00:00\n",
    "parallel --jobs 10 --delay 1 < qso_mgii_1x.txt\n",
    "parallel --jobs 10 --delay 1 < qso_qn_1x.txt ; exit\n",
    "```\n",
    "\n",
    "Run emission line afterburners:\n",
    "\n",
    "```\n",
    "salloc -N 1 --qos interactive -C haswell -t 4:00:00\n",
    "parallel --jobs 32 --delay 1 < desi_emlinefit_afterburner_1x.txt ; exit\n",
    "```"
   ]
  },
  {
   "cell_type": "code",
   "execution_count": 13,
   "metadata": {},
   "outputs": [],
   "source": [
    "# output_dir = os.getenv('OUTDIR')\n",
    "outdir = os.path.expandvars('/global/cfs/cdirs/desi/users/rongpu/fuji/1x_depth')\n",
    "os.environ['OUTDIR'] = outdir"
   ]
  },
  {
   "cell_type": "markdown",
   "metadata": {},
   "source": [
    "__Print desi_group_spectra commands__"
   ]
  },
  {
   "cell_type": "code",
   "execution_count": 14,
   "metadata": {
    "scrolled": true
   },
   "outputs": [
    {
     "name": "stdout",
     "output_type": "stream",
     "text": [
      "Tile 80605 subset 1 petal 3 has only 0 out of 2 exposures; skip\n",
      "Tile 80605 subset 2 petal 3 has only 1 out of 2 exposures; skip\n",
      "Tile 80605 subset 3 petal 3 has only 1 out of 2 exposures; skip\n",
      "Tile 80605 subset 5 petal 3 has only 0 out of 2 exposures; skip\n",
      "Tile 80606 subset 1 petal 3 has only 1 out of 2 exposures; skip\n",
      "Tile 80610 subset 5 petal 3 has only 1 out of 2 exposures; skip\n",
      "Tile 80678 subset 1 petal 3 has only 0 out of 2 exposures; skip\n",
      "Tile 80678 subset 2 petal 3 has only 0 out of 2 exposures; skip\n",
      "Tile 80678 subset 3 petal 3 has only 0 out of 2 exposures; skip\n",
      "Tile 80678 subset 4 petal 3 has only 0 out of 2 exposures; skip\n",
      "Tile 80678 subset 5 petal 3 has only 0 out of 2 exposures; skip\n",
      "Tile 80690 subset 1 petal 3 has only 0 out of 2 exposures; skip\n",
      "Tile 80690 subset 2 petal 3 has only 0 out of 3 exposures; skip\n",
      "Tile 80690 subset 3 petal 3 has only 0 out of 3 exposures; skip\n",
      "Tile 80690 subset 4 petal 3 has only 0 out of 3 exposures; skip\n",
      "Tile 80690 subset 5 petal 3 has only 0 out of 2 exposures; skip\n",
      "Tile 80690 subset 6 petal 3 has only 0 out of 2 exposures; skip\n",
      "Tile 80695 subset 1 petal 6 has only 0 out of 2 exposures; skip\n",
      "Tile 80695 subset 2 petal 6 has only 0 out of 2 exposures; skip\n",
      "Tile 80699 subset 1 petal 3 has only 0 out of 2 exposures; skip\n",
      "Tile 80699 subset 2 petal 3 has only 0 out of 2 exposures; skip\n",
      "Tile 80699 subset 3 petal 3 has only 1 out of 2 exposures; skip\n",
      "Tile 80699 subset 3 petal 6 has only 1 out of 2 exposures; skip\n",
      "Tile 80711 subset 1 petal 3 has only 0 out of 4 exposures; skip\n",
      "Tile 80711 subset 2 petal 3 has only 1 out of 3 exposures; skip\n",
      "Tile 80711 subset 3 petal 3 has only 0 out of 2 exposures; skip\n",
      "Tile 80711 subset 4 petal 3 has only 0 out of 3 exposures; skip\n"
     ]
    }
   ],
   "source": [
    "command_output_path_all = 'desi_group_spectra_1x_all.txt'\n",
    "command_output_path = 'desi_group_spectra_1x.txt'  # commands for reruns (e.g. after failures)\n",
    "\n",
    "f_all = open(command_output_path_all, 'w')\n",
    "f = open(command_output_path, 'w')\n",
    "\n",
    "for tileid_str in subsamp_dict.keys():\n",
    "    \n",
    "    # tileid_str = '80605'\n",
    "    tileid = int(tileid_str)\n",
    "\n",
    "    for subset_index, subset in enumerate(subsamp_dict[tileid_str]):\n",
    "        # print(subset)\n",
    "\n",
    "        mask = np.in1d(cframes['expid'], subset)\n",
    "        _, n_exp = np.unique(cframes['petal_loc'][mask], return_counts=True)\n",
    "        n_exp = np.max(n_exp)\n",
    "        petal_locs = np.arange(10)\n",
    "        \n",
    "        for petal_loc in petal_locs:\n",
    "\n",
    "            mask = np.in1d(cframes['expid'], subset) & (cframes['petal_loc']==petal_loc)\n",
    "            if np.sum(mask)!=n_exp:\n",
    "                print('Tile {} subset {} petal {} has only {} out of {} exposures; skip'.format(tileid, subset_index+1, petal_loc, np.sum(mask), n_exp))\n",
    "                continue\n",
    "        \n",
    "            input_locs = []\n",
    "            for expid in subset:\n",
    "                mask = (cframes['expid']==expid) & (cframes['petal_loc']==petal_loc)\n",
    "                if np.sum(mask)>1:\n",
    "                    raise ValueError\n",
    "                if np.sum(mask)==1:\n",
    "                    exposure_dir = os.path.dirname(cframes['cframe_fn'][mask][0])\n",
    "                    input_locs.append(os.path.join(exposure_dir.replace(indir, '$INDIR'), 'cframe-[brz]{}-*.fits'.format(petal_loc)))\n",
    "\n",
    "            input_locs = ' '.join(input_locs)\n",
    "            spectra_output_loc = os.path.join('$OUTDIR', str(tileid), str(subset_index+1), 'spectra-{}-{}-1xsubset{}.fits'.format(petal_loc, tileid, subset_index+1))\n",
    "            \n",
    "            write_text = 'srun -N 1 -n 1 -c 64 desi_group_spectra --inframes {} --outfile {}'.format(input_locs, spectra_output_loc)\n",
    "            write_text += ' --header SPGRP=1x_depth SPGRPVAL={} TILEID={} SPECTRO={} PETAL={}'.format(subset_index+1, tileid, petal_loc, petal_loc)\n",
    "            write_text += '\\n'\n",
    "            \n",
    "            f_all.write(write_text)\n",
    "\n",
    "            if os.path.isfile(os.path.expandvars(spectra_output_loc)) and (not overwrite):\n",
    "                # print('{} already exists'.format(spectra_output_loc))\n",
    "                pass\n",
    "            else:\n",
    "                # print(write_text)\n",
    "                f.write(write_text)\n",
    "                \n",
    "f_all.close()\n",
    "f.close()"
   ]
  },
  {
   "cell_type": "markdown",
   "metadata": {},
   "source": [
    "__Print desi_coadd_spectra commands__"
   ]
  },
  {
   "cell_type": "code",
   "execution_count": 15,
   "metadata": {},
   "outputs": [
    {
     "name": "stdout",
     "output_type": "stream",
     "text": [
      "Tile 80605 subset 1 petal 3 has only 0 out of 2 exposures; skip\n",
      "Tile 80605 subset 2 petal 3 has only 1 out of 2 exposures; skip\n",
      "Tile 80605 subset 3 petal 3 has only 1 out of 2 exposures; skip\n",
      "Tile 80605 subset 5 petal 3 has only 0 out of 2 exposures; skip\n",
      "Tile 80606 subset 1 petal 3 has only 1 out of 2 exposures; skip\n",
      "Tile 80610 subset 5 petal 3 has only 1 out of 2 exposures; skip\n",
      "Tile 80678 subset 1 petal 3 has only 0 out of 2 exposures; skip\n",
      "Tile 80678 subset 2 petal 3 has only 0 out of 2 exposures; skip\n",
      "Tile 80678 subset 3 petal 3 has only 0 out of 2 exposures; skip\n",
      "Tile 80678 subset 4 petal 3 has only 0 out of 2 exposures; skip\n",
      "Tile 80678 subset 5 petal 3 has only 0 out of 2 exposures; skip\n",
      "Tile 80690 subset 1 petal 3 has only 0 out of 2 exposures; skip\n",
      "Tile 80690 subset 2 petal 3 has only 0 out of 3 exposures; skip\n",
      "Tile 80690 subset 3 petal 3 has only 0 out of 3 exposures; skip\n",
      "Tile 80690 subset 4 petal 3 has only 0 out of 3 exposures; skip\n",
      "Tile 80690 subset 5 petal 3 has only 0 out of 2 exposures; skip\n",
      "Tile 80690 subset 6 petal 3 has only 0 out of 2 exposures; skip\n",
      "Tile 80695 subset 1 petal 6 has only 0 out of 2 exposures; skip\n",
      "Tile 80695 subset 2 petal 6 has only 0 out of 2 exposures; skip\n",
      "Tile 80699 subset 1 petal 3 has only 0 out of 2 exposures; skip\n",
      "Tile 80699 subset 2 petal 3 has only 0 out of 2 exposures; skip\n",
      "Tile 80699 subset 3 petal 3 has only 1 out of 2 exposures; skip\n",
      "Tile 80699 subset 3 petal 6 has only 1 out of 2 exposures; skip\n",
      "Tile 80711 subset 1 petal 3 has only 0 out of 4 exposures; skip\n",
      "Tile 80711 subset 2 petal 3 has only 1 out of 3 exposures; skip\n",
      "Tile 80711 subset 3 petal 3 has only 0 out of 2 exposures; skip\n",
      "Tile 80711 subset 4 petal 3 has only 0 out of 3 exposures; skip\n"
     ]
    }
   ],
   "source": [
    "command_output_path_all = 'desi_coadd_spectra_1x_all.txt'\n",
    "command_output_path = 'desi_coadd_spectra_1x.txt'  # commands for reruns (e.g. after failures)\n",
    "\n",
    "f_all = open(command_output_path_all, 'w')\n",
    "f = open(command_output_path, 'w')\n",
    "\n",
    "for tileid_str in subsamp_dict.keys():\n",
    "    \n",
    "    # tileid_str = '80605'\n",
    "    tileid = int(tileid_str)\n",
    "\n",
    "    for subset_index, subset in enumerate(subsamp_dict[tileid_str]):\n",
    "        # print(subset)\n",
    "\n",
    "        mask = np.in1d(cframes['expid'], subset)\n",
    "        _, n_exp = np.unique(cframes['petal_loc'][mask], return_counts=True)\n",
    "        n_exp = np.max(n_exp)\n",
    "        petal_locs = np.arange(10)\n",
    "\n",
    "        for petal_loc in petal_locs:\n",
    "\n",
    "            mask = np.in1d(cframes['expid'], subset) & (cframes['petal_loc']==petal_loc)\n",
    "            if np.sum(mask)!=n_exp:\n",
    "                print('Tile {} subset {} petal {} has only {} out of {} exposures; skip'.format(tileid, subset_index+1, petal_loc, np.sum(mask), n_exp))\n",
    "                continue\n",
    "\n",
    "            spectra_output_loc = os.path.join('$OUTDIR', str(tileid), str(subset_index+1), 'spectra-{}-{}-1xsubset{}.fits'.format(petal_loc, tileid, subset_index+1))\n",
    "            coadd_output_loc = os.path.join('$OUTDIR', str(tileid), str(subset_index+1), 'coadd-{}-{}-1xsubset{}.fits'.format(petal_loc, tileid, subset_index+1))\n",
    "            \n",
    "            write_text = 'desi_coadd_spectra --onetile -i {} -o {}\\n'.format(spectra_output_loc, coadd_output_loc)\n",
    "            f_all.write(write_text)\n",
    "\n",
    "            if os.path.isfile(os.path.expandvars(coadd_output_loc)) and (not overwrite):\n",
    "                # print('{} already exists'.format(coadd_output_loc))\n",
    "                pass\n",
    "            else:\n",
    "                # print(write_text)\n",
    "                f.write(write_text)\n",
    "\n",
    "f_all.close()\n",
    "f.close()"
   ]
  },
  {
   "cell_type": "markdown",
   "metadata": {},
   "source": [
    "__Print redrock commands__  \n",
    "Include 10-minute timeout"
   ]
  },
  {
   "cell_type": "code",
   "execution_count": 16,
   "metadata": {
    "scrolled": false
   },
   "outputs": [
    {
     "name": "stdout",
     "output_type": "stream",
     "text": [
      "Tile 80605 subset 1 petal 3 has only 0 out of 2 exposures; skip\n",
      "Tile 80605 subset 2 petal 3 has only 1 out of 2 exposures; skip\n",
      "Tile 80605 subset 3 petal 3 has only 1 out of 2 exposures; skip\n",
      "Tile 80605 subset 5 petal 3 has only 0 out of 2 exposures; skip\n",
      "Tile 80606 subset 1 petal 3 has only 1 out of 2 exposures; skip\n",
      "Tile 80610 subset 5 petal 3 has only 1 out of 2 exposures; skip\n",
      "Tile 80678 subset 1 petal 3 has only 0 out of 2 exposures; skip\n",
      "Tile 80678 subset 2 petal 3 has only 0 out of 2 exposures; skip\n",
      "Tile 80678 subset 3 petal 3 has only 0 out of 2 exposures; skip\n",
      "Tile 80678 subset 4 petal 3 has only 0 out of 2 exposures; skip\n",
      "Tile 80678 subset 5 petal 3 has only 0 out of 2 exposures; skip\n",
      "Tile 80690 subset 1 petal 3 has only 0 out of 2 exposures; skip\n",
      "Tile 80690 subset 2 petal 3 has only 0 out of 3 exposures; skip\n",
      "Tile 80690 subset 3 petal 3 has only 0 out of 3 exposures; skip\n",
      "Tile 80690 subset 4 petal 3 has only 0 out of 3 exposures; skip\n",
      "Tile 80690 subset 5 petal 3 has only 0 out of 2 exposures; skip\n",
      "Tile 80690 subset 6 petal 3 has only 0 out of 2 exposures; skip\n",
      "Tile 80695 subset 1 petal 6 has only 0 out of 2 exposures; skip\n",
      "Tile 80695 subset 2 petal 6 has only 0 out of 2 exposures; skip\n",
      "Tile 80699 subset 1 petal 3 has only 0 out of 2 exposures; skip\n",
      "Tile 80699 subset 2 petal 3 has only 0 out of 2 exposures; skip\n",
      "Tile 80699 subset 3 petal 3 has only 1 out of 2 exposures; skip\n",
      "Tile 80699 subset 3 petal 6 has only 1 out of 2 exposures; skip\n",
      "Tile 80711 subset 1 petal 3 has only 0 out of 4 exposures; skip\n",
      "Tile 80711 subset 2 petal 3 has only 1 out of 3 exposures; skip\n",
      "Tile 80711 subset 3 petal 3 has only 0 out of 2 exposures; skip\n",
      "Tile 80711 subset 4 petal 3 has only 0 out of 3 exposures; skip\n"
     ]
    }
   ],
   "source": [
    "command_output_path_all = 'rrdesi_1x_all.txt'\n",
    "command_output_path = 'rrdesi_1x.txt'  # commands for reruns (e.g. after failures)\n",
    "\n",
    "f_all = open(command_output_path_all, 'w')\n",
    "f = open(command_output_path, 'w')\n",
    "\n",
    "for tileid_str in subsamp_dict.keys():\n",
    "\n",
    "    tileid = int(tileid_str)\n",
    "    \n",
    "    for subset_index, subset in enumerate(subsamp_dict[tileid_str]):\n",
    "\n",
    "        mask = np.in1d(cframes['expid'], subset)\n",
    "        _, n_exp = np.unique(cframes['petal_loc'][mask], return_counts=True)\n",
    "        n_exp = np.max(n_exp)\n",
    "        petal_locs = np.arange(10)\n",
    "\n",
    "        for petal_loc in petal_locs:\n",
    "        \n",
    "            mask = np.in1d(cframes['expid'], subset) & (cframes['petal_loc']==petal_loc)\n",
    "            if np.sum(mask)!=n_exp:\n",
    "                print('Tile {} subset {} petal {} has only {} out of {} exposures; skip'.format(tileid, subset_index+1, petal_loc, np.sum(mask), n_exp))\n",
    "                continue\n",
    "\n",
    "            coadd_output_loc = os.path.join('$OUTDIR', str(tileid), str(subset_index+1), 'coadd-{}-{}-1xsubset{}.fits'.format(petal_loc, tileid, subset_index+1))\n",
    "            redrock_output_loc = os.path.join('$OUTDIR', str(tileid), str(subset_index+1), 'redrock-{}-{}-1xsubset{}.fits'.format(petal_loc, tileid, subset_index+1))\n",
    "            rrdetails_output_loc = os.path.join('$OUTDIR', str(tileid), str(subset_index+1), 'rrdetails-{}-{}-1xsubset{}.h5'.format(petal_loc, tileid, subset_index+1))\n",
    "            log_loc = os.path.join('$OUTDIR', str(tileid), str(subset_index+1), 'logs/redrock-{}-{}-1xsubset{}.log'.format(petal_loc, tileid, subset_index+1))\n",
    "\n",
    "            write_text = 'srun -N 1 -n 32 -c 2 -t 00:10:00 rrdesi_mpi -i {} -o {} --details {} &> {}\\n'.format(coadd_output_loc, redrock_output_loc, rrdetails_output_loc, log_loc)\n",
    "            f_all.write(write_text)\n",
    "        \n",
    "            if os.path.isfile(os.path.expandvars(redrock_output_loc)) and (not overwrite):\n",
    "                # print('{} already exists'.format(redrock_output_loc))\n",
    "                pass\n",
    "            else:\n",
    "                # print(write_text)\n",
    "                f.write(write_text)\n",
    "f.close()\n",
    "f_all.close()"
   ]
  },
  {
   "cell_type": "markdown",
   "metadata": {},
   "source": [
    "__Print QSO MgII afterburner commands__  "
   ]
  },
  {
   "cell_type": "code",
   "execution_count": 17,
   "metadata": {},
   "outputs": [
    {
     "name": "stdout",
     "output_type": "stream",
     "text": [
      "Tile 80605 subset 1 petal 3 has only 0 out of 2 exposures; skip\n",
      "Tile 80605 subset 2 petal 3 has only 1 out of 2 exposures; skip\n",
      "Tile 80605 subset 3 petal 3 has only 1 out of 2 exposures; skip\n",
      "Tile 80605 subset 5 petal 3 has only 0 out of 2 exposures; skip\n",
      "Tile 80606 subset 1 petal 3 has only 1 out of 2 exposures; skip\n",
      "Tile 80610 subset 5 petal 3 has only 1 out of 2 exposures; skip\n",
      "Tile 80678 subset 1 petal 3 has only 0 out of 2 exposures; skip\n",
      "Tile 80678 subset 2 petal 3 has only 0 out of 2 exposures; skip\n",
      "Tile 80678 subset 3 petal 3 has only 0 out of 2 exposures; skip\n",
      "Tile 80678 subset 4 petal 3 has only 0 out of 2 exposures; skip\n",
      "Tile 80678 subset 5 petal 3 has only 0 out of 2 exposures; skip\n",
      "Tile 80690 subset 1 petal 3 has only 0 out of 2 exposures; skip\n",
      "Tile 80690 subset 2 petal 3 has only 0 out of 3 exposures; skip\n",
      "Tile 80690 subset 3 petal 3 has only 0 out of 3 exposures; skip\n",
      "Tile 80690 subset 4 petal 3 has only 0 out of 3 exposures; skip\n",
      "Tile 80690 subset 5 petal 3 has only 0 out of 2 exposures; skip\n",
      "Tile 80690 subset 6 petal 3 has only 0 out of 2 exposures; skip\n",
      "Tile 80695 subset 1 petal 6 has only 0 out of 2 exposures; skip\n",
      "Tile 80695 subset 2 petal 6 has only 0 out of 2 exposures; skip\n",
      "Tile 80699 subset 1 petal 3 has only 0 out of 2 exposures; skip\n",
      "Tile 80699 subset 2 petal 3 has only 0 out of 2 exposures; skip\n",
      "Tile 80699 subset 3 petal 3 has only 1 out of 2 exposures; skip\n",
      "Tile 80699 subset 3 petal 6 has only 1 out of 2 exposures; skip\n",
      "Tile 80711 subset 1 petal 3 has only 0 out of 4 exposures; skip\n",
      "Tile 80711 subset 2 petal 3 has only 1 out of 3 exposures; skip\n",
      "Tile 80711 subset 3 petal 3 has only 0 out of 2 exposures; skip\n",
      "Tile 80711 subset 4 petal 3 has only 0 out of 3 exposures; skip\n"
     ]
    }
   ],
   "source": [
    "command_output_path_all = 'qso_mgii_1x_all.txt'\n",
    "command_output_path = 'qso_mgii_1x.txt'  # commands for reruns (e.g. after failures)\n",
    "\n",
    "f_all = open(command_output_path_all, 'w')\n",
    "f = open(command_output_path, 'w')\n",
    "\n",
    "for tileid_str in subsamp_dict.keys():\n",
    "# for tileid_str in ['80605', '80607', '80609']:  # LRG+QSO tiles only\n",
    "\n",
    "    tileid = int(tileid_str)\n",
    "    \n",
    "    for subset_index, subset in enumerate(subsamp_dict[tileid_str]):\n",
    "\n",
    "        mask = np.in1d(cframes['expid'], subset)\n",
    "        _, n_exp = np.unique(cframes['petal_loc'][mask], return_counts=True)\n",
    "        n_exp = np.max(n_exp)\n",
    "        petal_locs = np.arange(10)\n",
    "        \n",
    "        for petal_loc in petal_locs:\n",
    "        \n",
    "            mask = np.in1d(cframes['expid'], subset) & (cframes['petal_loc']==petal_loc)\n",
    "            if np.sum(mask)!=n_exp:\n",
    "                print('Tile {} subset {} petal {} has only {} out of {} exposures; skip'.format(tileid, subset_index+1, petal_loc, np.sum(mask), n_exp))\n",
    "                continue\n",
    "\n",
    "            coadd_output_loc = os.path.join('$OUTDIR', str(tileid), str(subset_index+1), 'coadd-{}-{}-1xsubset{}.fits'.format(petal_loc, tileid, subset_index+1))\n",
    "            redrock_output_loc = os.path.join('$OUTDIR', str(tileid), str(subset_index+1), 'redrock-{}-{}-1xsubset{}.fits'.format(petal_loc, tileid, subset_index+1))\n",
    "            qso_mgii_output_loc = os.path.join('$OUTDIR', str(tileid), str(subset_index+1), 'qso_mgii-{}-{}-1xsubset{}.fits'.format(petal_loc, tileid, subset_index+1))\n",
    "            log_loc = os.path.join('$OUTDIR', str(tileid), str(subset_index+1), 'logs/qso_mgii-{}-{}-1xsubset{}.log'.format(petal_loc, tileid, subset_index+1))\n",
    "\n",
    "            write_text = 'srun -N 1 -n 1 -c 32 desi_qso_mgii_afterburner --coadd {} --redrock {} --output {} --target_selection all_targets --save_target all &> {}\\n'.format(coadd_output_loc, redrock_output_loc, qso_mgii_output_loc, log_loc)\n",
    "            f_all.write(write_text)\n",
    "        \n",
    "            if os.path.isfile(os.path.expandvars(qso_mgii_output_loc)) and (not overwrite):\n",
    "                # print('{} already exists'.format(qso_mgii_output_loc))\n",
    "                pass\n",
    "            else:\n",
    "                # print(write_text)\n",
    "                f.write(write_text)\n",
    "f.close()\n",
    "f_all.close()"
   ]
  },
  {
   "cell_type": "markdown",
   "metadata": {},
   "source": [
    "__Print QSO QN afterburner commands__  "
   ]
  },
  {
   "cell_type": "code",
   "execution_count": 18,
   "metadata": {},
   "outputs": [
    {
     "name": "stdout",
     "output_type": "stream",
     "text": [
      "Tile 80605 subset 1 petal 3 has only 0 out of 2 exposures; skip\n",
      "Tile 80605 subset 2 petal 3 has only 1 out of 2 exposures; skip\n",
      "Tile 80605 subset 3 petal 3 has only 1 out of 2 exposures; skip\n",
      "Tile 80605 subset 5 petal 3 has only 0 out of 2 exposures; skip\n",
      "Tile 80606 subset 1 petal 3 has only 1 out of 2 exposures; skip\n",
      "Tile 80610 subset 5 petal 3 has only 1 out of 2 exposures; skip\n",
      "Tile 80678 subset 1 petal 3 has only 0 out of 2 exposures; skip\n",
      "Tile 80678 subset 2 petal 3 has only 0 out of 2 exposures; skip\n",
      "Tile 80678 subset 3 petal 3 has only 0 out of 2 exposures; skip\n",
      "Tile 80678 subset 4 petal 3 has only 0 out of 2 exposures; skip\n",
      "Tile 80678 subset 5 petal 3 has only 0 out of 2 exposures; skip\n",
      "Tile 80690 subset 1 petal 3 has only 0 out of 2 exposures; skip\n",
      "Tile 80690 subset 2 petal 3 has only 0 out of 3 exposures; skip\n",
      "Tile 80690 subset 3 petal 3 has only 0 out of 3 exposures; skip\n",
      "Tile 80690 subset 4 petal 3 has only 0 out of 3 exposures; skip\n",
      "Tile 80690 subset 5 petal 3 has only 0 out of 2 exposures; skip\n",
      "Tile 80690 subset 6 petal 3 has only 0 out of 2 exposures; skip\n",
      "Tile 80695 subset 1 petal 6 has only 0 out of 2 exposures; skip\n",
      "Tile 80695 subset 2 petal 6 has only 0 out of 2 exposures; skip\n",
      "Tile 80699 subset 1 petal 3 has only 0 out of 2 exposures; skip\n",
      "Tile 80699 subset 2 petal 3 has only 0 out of 2 exposures; skip\n",
      "Tile 80699 subset 3 petal 3 has only 1 out of 2 exposures; skip\n",
      "Tile 80699 subset 3 petal 6 has only 1 out of 2 exposures; skip\n",
      "Tile 80711 subset 1 petal 3 has only 0 out of 4 exposures; skip\n",
      "Tile 80711 subset 2 petal 3 has only 1 out of 3 exposures; skip\n",
      "Tile 80711 subset 3 petal 3 has only 0 out of 2 exposures; skip\n",
      "Tile 80711 subset 4 petal 3 has only 0 out of 3 exposures; skip\n"
     ]
    }
   ],
   "source": [
    "command_output_path_all = 'qso_qn_1x_all.txt'\n",
    "command_output_path = 'qso_qn_1x.txt'  # commands for reruns (e.g. after failures)\n",
    "\n",
    "f_all = open(command_output_path_all, 'w')\n",
    "f = open(command_output_path, 'w')\n",
    "\n",
    "for tileid_str in subsamp_dict.keys():\n",
    "# for tileid_str in ['80605', '80607', '80609']:  # LRG+QSO tiles only\n",
    "\n",
    "    tileid = int(tileid_str)\n",
    "    \n",
    "    for subset_index, subset in enumerate(subsamp_dict[tileid_str]):\n",
    "\n",
    "        mask = np.in1d(cframes['expid'], subset)\n",
    "        _, n_exp = np.unique(cframes['petal_loc'][mask], return_counts=True)\n",
    "        n_exp = np.max(n_exp)\n",
    "        petal_locs = np.arange(10)\n",
    "        \n",
    "        for petal_loc in petal_locs:\n",
    "        \n",
    "            mask = np.in1d(cframes['expid'], subset) & (cframes['petal_loc']==petal_loc)\n",
    "            if np.sum(mask)!=n_exp:\n",
    "                print('Tile {} subset {} petal {} has only {} out of {} exposures; skip'.format(tileid, subset_index+1, petal_loc, np.sum(mask), n_exp))\n",
    "                continue\n",
    "\n",
    "            coadd_output_loc = os.path.join('$OUTDIR', str(tileid), str(subset_index+1), 'coadd-{}-{}-1xsubset{}.fits'.format(petal_loc, tileid, subset_index+1))\n",
    "            redrock_output_loc = os.path.join('$OUTDIR', str(tileid), str(subset_index+1), 'redrock-{}-{}-1xsubset{}.fits'.format(petal_loc, tileid, subset_index+1))\n",
    "            qso_qn_output_loc = os.path.join('$OUTDIR', str(tileid), str(subset_index+1), 'qso_qn-{}-{}-1xsubset{}.fits'.format(petal_loc, tileid, subset_index+1))\n",
    "            log_loc = os.path.join('$OUTDIR', str(tileid), str(subset_index+1), 'logs/qso_qn-{}-{}-1xsubset{}.log'.format(petal_loc, tileid, subset_index+1))\n",
    "\n",
    "            write_text = 'srun -N 1 -n 1 -c 32 desi_qso_qn_afterburner --coadd {} --redrock {} --output {} --target_selection all_targets --save_target all &> {}\\n'.format(coadd_output_loc, redrock_output_loc, qso_qn_output_loc, log_loc)\n",
    "            f_all.write(write_text)\n",
    "        \n",
    "            if os.path.isfile(os.path.expandvars(qso_qn_output_loc)) and (not overwrite):\n",
    "                # print('{} already exists'.format(qso_qn_output_loc))\n",
    "                pass\n",
    "            else:\n",
    "                # print(write_text)\n",
    "                f.write(write_text)\n",
    "f.close()\n",
    "f_all.close()"
   ]
  },
  {
   "cell_type": "markdown",
   "metadata": {},
   "source": [
    "__Print emission line afterburner commands__  "
   ]
  },
  {
   "cell_type": "code",
   "execution_count": 19,
   "metadata": {},
   "outputs": [
    {
     "name": "stdout",
     "output_type": "stream",
     "text": [
      "Tile 80605 subset 1 petal 3 has only 0 out of 2 exposures; skip\n",
      "Tile 80605 subset 2 petal 3 has only 1 out of 2 exposures; skip\n",
      "Tile 80605 subset 3 petal 3 has only 1 out of 2 exposures; skip\n",
      "Tile 80605 subset 5 petal 3 has only 0 out of 2 exposures; skip\n",
      "Tile 80606 subset 1 petal 3 has only 1 out of 2 exposures; skip\n",
      "Tile 80610 subset 5 petal 3 has only 1 out of 2 exposures; skip\n",
      "Tile 80678 subset 1 petal 3 has only 0 out of 2 exposures; skip\n",
      "Tile 80678 subset 2 petal 3 has only 0 out of 2 exposures; skip\n",
      "Tile 80678 subset 3 petal 3 has only 0 out of 2 exposures; skip\n",
      "Tile 80678 subset 4 petal 3 has only 0 out of 2 exposures; skip\n",
      "Tile 80678 subset 5 petal 3 has only 0 out of 2 exposures; skip\n",
      "Tile 80690 subset 1 petal 3 has only 0 out of 2 exposures; skip\n",
      "Tile 80690 subset 2 petal 3 has only 0 out of 3 exposures; skip\n",
      "Tile 80690 subset 3 petal 3 has only 0 out of 3 exposures; skip\n",
      "Tile 80690 subset 4 petal 3 has only 0 out of 3 exposures; skip\n",
      "Tile 80690 subset 5 petal 3 has only 0 out of 2 exposures; skip\n",
      "Tile 80690 subset 6 petal 3 has only 0 out of 2 exposures; skip\n",
      "Tile 80695 subset 1 petal 6 has only 0 out of 2 exposures; skip\n",
      "Tile 80695 subset 2 petal 6 has only 0 out of 2 exposures; skip\n",
      "Tile 80699 subset 1 petal 3 has only 0 out of 2 exposures; skip\n",
      "Tile 80699 subset 2 petal 3 has only 0 out of 2 exposures; skip\n",
      "Tile 80699 subset 3 petal 3 has only 1 out of 2 exposures; skip\n",
      "Tile 80699 subset 3 petal 6 has only 1 out of 2 exposures; skip\n",
      "Tile 80711 subset 1 petal 3 has only 0 out of 4 exposures; skip\n",
      "Tile 80711 subset 2 petal 3 has only 1 out of 3 exposures; skip\n",
      "Tile 80711 subset 3 petal 3 has only 0 out of 2 exposures; skip\n",
      "Tile 80711 subset 4 petal 3 has only 0 out of 3 exposures; skip\n"
     ]
    }
   ],
   "source": [
    "command_output_path_all = 'desi_emlinefit_afterburner_1x_all.txt'\n",
    "command_output_path = 'desi_emlinefit_afterburner_1x.txt'  # commands for reruns (e.g. after failures)\n",
    "\n",
    "f_all = open(command_output_path_all, 'w')\n",
    "f = open(command_output_path, 'w')\n",
    "\n",
    "for tileid_str in subsamp_dict.keys():\n",
    "\n",
    "    tileid = int(tileid_str)\n",
    "\n",
    "    for subset_index, subset in enumerate(subsamp_dict[tileid_str]):\n",
    "\n",
    "        mask = np.in1d(cframes['expid'], subset)\n",
    "        _, n_exp = np.unique(cframes['petal_loc'][mask], return_counts=True)\n",
    "        n_exp = np.max(n_exp)\n",
    "        petal_locs = np.arange(10)\n",
    "\n",
    "        for petal_loc in petal_locs:\n",
    "\n",
    "            mask = np.in1d(cframes['expid'], subset) & (cframes['petal_loc']==petal_loc)\n",
    "            if np.sum(mask)!=n_exp:\n",
    "                print('Tile {} subset {} petal {} has only {} out of {} exposures; skip'.format(tileid, subset_index+1, petal_loc, np.sum(mask), n_exp))\n",
    "                continue\n",
    "\n",
    "            coadd_output_loc = os.path.join('$OUTDIR', str(tileid), str(subset_index+1), 'coadd-{}-{}-1xsubset{}.fits'.format(petal_loc, tileid, subset_index+1))\n",
    "            redrock_output_loc = os.path.join('$OUTDIR', str(tileid), str(subset_index+1), 'redrock-{}-{}-1xsubset{}.fits'.format(petal_loc, tileid, subset_index+1))\n",
    "            emline_output_loc = os.path.join('$OUTDIR', str(tileid), str(subset_index+1), 'emline-{}-{}-1xsubset{}.fits'.format(petal_loc, tileid, subset_index+1))\n",
    "            log_loc = os.path.join('$OUTDIR', str(tileid), str(subset_index+1), 'logs/emline-{}-{}-1xsubset{}.log'.format(petal_loc, tileid, subset_index+1))\n",
    "\n",
    "            write_text = 'desi_emlinefit_afterburner --redrock {} --coadd {} --output {} &> {}\\n'.format(redrock_output_loc, coadd_output_loc, emline_output_loc, log_loc)\n",
    "            f_all.write(write_text)\n",
    "\n",
    "            if os.path.isfile(os.path.expandvars(emline_output_loc)) and (not overwrite):\n",
    "                # print('{} already exists'.format(emline_output_loc))\n",
    "                pass\n",
    "            else:\n",
    "                # print(write_text)\n",
    "                f.write(write_text)\n",
    "\n",
    "f_all.close()\n",
    "f.close()"
   ]
  },
  {
   "cell_type": "markdown",
   "metadata": {},
   "source": [
    "__Create directories for logs__"
   ]
  },
  {
   "cell_type": "code",
   "execution_count": 20,
   "metadata": {},
   "outputs": [],
   "source": [
    "from pathlib import Path\n",
    "\n",
    "for tileid_str in subsamp_dict.keys():\n",
    "\n",
    "    tileid = int(tileid_str)\n",
    "    \n",
    "    for subset_index, subset in enumerate(subsamp_dict[tileid_str]):\n",
    "        \n",
    "        log_dir = os.path.join('$OUTDIR', str(tileid), str(subset_index+1), 'logs')\n",
    "        Path(os.path.expandvars(log_dir)).mkdir(parents=True, exist_ok=True)"
   ]
  },
  {
   "cell_type": "code",
   "execution_count": null,
   "metadata": {},
   "outputs": [],
   "source": []
  }
 ],
 "metadata": {
  "@webio": {
   "lastCommId": null,
   "lastKernelId": null
  },
  "kernelspec": {
   "display_name": "DESI 20.7",
   "language": "python",
   "name": "desi-20.7"
  },
  "language_info": {
   "codemirror_mode": {
    "name": "ipython",
    "version": 3
   },
   "file_extension": ".py",
   "mimetype": "text/x-python",
   "name": "python",
   "nbconvert_exporter": "python",
   "pygments_lexer": "ipython3",
   "version": "3.8.3"
  }
 },
 "nbformat": 4,
 "nbformat_minor": 2
}

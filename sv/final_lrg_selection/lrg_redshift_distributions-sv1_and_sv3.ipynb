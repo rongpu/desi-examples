{
 "cells": [
  {
   "cell_type": "markdown",
   "metadata": {},
   "source": [
    "Combine the LRGs from Denali and SV3"
   ]
  },
  {
   "cell_type": "code",
   "execution_count": 1,
   "metadata": {},
   "outputs": [],
   "source": [
    "from __future__ import division, print_function\n",
    "import sys, os, glob, time, warnings, gc\n",
    "import numpy as np\n",
    "import matplotlib.pyplot as plt\n",
    "from astropy.table import Table, vstack, hstack, join\n",
    "import fitsio\n",
    "# from astropy.io import fits"
   ]
  },
  {
   "cell_type": "code",
   "execution_count": 2,
   "metadata": {},
   "outputs": [
    {
     "data": {
      "text/plain": [
       "<module 'plotting_scripts' from '/global/homes/r/rongpu/git/desi-lrg-selection/plotting_scripts.py'>"
      ]
     },
     "execution_count": 2,
     "metadata": {},
     "output_type": "execute_result"
    }
   ],
   "source": [
    "from matplotlib.ticker import FormatStrFormatter\n",
    "sys.path.append(os.path.expanduser('~/git/desi-lrg-selection'))\n",
    "import plotting_scripts as lrg_plot\n",
    "import importlib\n",
    "importlib.reload(lrg_plot)"
   ]
  },
  {
   "cell_type": "code",
   "execution_count": 3,
   "metadata": {},
   "outputs": [],
   "source": [
    "params = {'legend.fontsize': 'x-large',\n",
    "         'axes.labelsize': 'x-large',\n",
    "         'axes.titlesize':'x-large',\n",
    "         'xtick.labelsize':'x-large',\n",
    "         'ytick.labelsize':'x-large',\n",
    "         'figure.facecolor':'w'} \n",
    "plt.rcParams.update(params)"
   ]
  },
  {
   "cell_type": "code",
   "execution_count": 4,
   "metadata": {},
   "outputs": [
    {
     "name": "stdout",
     "output_type": "stream",
     "text": [
      "52268\n",
      "52023\n",
      "FIBERSTATUS 43371 8897 0.17021887196755184\n",
      "No data 43368 3 6.917064397869545e-05\n",
      "Min depth 36843 6525 0.8495434421693414\n"
     ]
    }
   ],
   "source": [
    "# Denali\n",
    "\n",
    "tmp = Table(fitsio.read('/global/cfs/cdirs/desi/survey/catalogs/SV1/redshift_comps/denali/testdenali/All/alltiles_Allzinfo.fits', columns=['SV1_DESI_TARGET', 'TARGETS', 'coadd_type']))\n",
    "mask = (tmp['SV1_DESI_TARGET'] & 2**0 > 0) & (tmp['TARGETS']=='QSO+LRG') & (tmp['coadd_type']=='cumulative')\n",
    "idx = np.where(mask)[0]\n",
    "zbest = Table(fitsio.read('/global/cfs/cdirs/desi/survey/catalogs/SV1/redshift_comps/denali/testdenali/All/alltiles_Allzinfo.fits', rows=idx))\n",
    "print(len(zbest))\n",
    "print(len(np.unique(zbest['TARGETID'])))\n",
    "\n",
    "# Remove FIBERSTATUS!=0 fibers\n",
    "mask = zbest['FIBERSTATUS']==0\n",
    "print('FIBERSTATUS',np.sum(mask), np.sum(~mask), np.sum(~mask)/len(mask))\n",
    "zbest = zbest[mask]\n",
    "\n",
    "# Remove \"no data\" fibers\n",
    "mask = zbest['ZWARN'] & 2**9==0\n",
    "print('No data', np.sum(mask), np.sum(~mask), np.sum(~mask)/len(mask))\n",
    "zbest = zbest[mask]\n",
    "\n",
    "# Require a minimum depth for the deep coadd\n",
    "min_depth = 2000.\n",
    "mask = zbest['EFFTIME_DARK']>min_depth\n",
    "print('Min depth', np.sum(mask), np.sum(~mask), np.sum(mask)/len(mask))\n",
    "zbest = zbest[mask]\n",
    "\n",
    "zbest.rename_columns(['TARGET_RA', 'TARGET_DEC'], ['RA', 'DEC'])"
   ]
  },
  {
   "cell_type": "code",
   "execution_count": 5,
   "metadata": {
    "scrolled": true
   },
   "outputs": [
    {
     "name": "stdout",
     "output_type": "stream",
     "text": [
      "103823\n",
      "103823\n",
      "FIBERSTATUS 98822 5001 0.04816851757317743\n",
      "No data 98822 0 0.0\n",
      "Min depth 93944 4878 0.9506385217866467\n"
     ]
    }
   ],
   "source": [
    "# SV3\n",
    "\n",
    "zbest_path = '/global/cfs/cdirs/desi/survey/catalogs/SV3/LSS/LSScats/v0/LRGAlltiles_full.dat.fits'\n",
    "zbest1 = Table(fitsio.read(zbest_path))\n",
    "print(len(zbest1))\n",
    "print(len(np.unique(zbest1['TARGETID'])))\n",
    "\n",
    "# Remove FIBERSTATUS!=0 fibers\n",
    "mask = zbest1['FIBERSTATUS']==0\n",
    "print('FIBERSTATUS',np.sum(mask), np.sum(~mask), np.sum(~mask)/len(mask))\n",
    "zbest1 = zbest1[mask]\n",
    "\n",
    "# Remove \"no data\" fibers\n",
    "mask = zbest1['ZWARN'] & 2**9==0\n",
    "print('No data', np.sum(mask), np.sum(~mask), np.sum(~mask)/len(mask))\n",
    "zbest1 = zbest1[mask]\n",
    "\n",
    "# Require a minimum depth for the deep coadd\n",
    "min_tsnr_lrg = 80.\n",
    "mask = zbest1['TSNR2_LRG']>min_tsnr_lrg\n",
    "print('Min depth', np.sum(mask), np.sum(~mask), np.sum(mask)/len(mask))\n",
    "zbest1 = zbest1[mask]"
   ]
  },
  {
   "cell_type": "code",
   "execution_count": 6,
   "metadata": {},
   "outputs": [
    {
     "name": "stdout",
     "output_type": "stream",
     "text": [
      "['BRICKID' 'BRICKNAME' 'BRICK_OBJID' 'CHI2' 'COEFF' 'DEC' 'DELTACHI2'\n",
      " 'EBV' 'FIBER' 'FIBERFLUX_G' 'FIBERFLUX_R' 'FIBERFLUX_Z' 'FIBERSTATUS'\n",
      " 'FIBERTOTFLUX_G' 'FIBERTOTFLUX_R' 'FIBERTOTFLUX_Z' 'FLUX_G' 'FLUX_IVAR_G'\n",
      " 'FLUX_IVAR_R' 'FLUX_IVAR_W1' 'FLUX_IVAR_W2' 'FLUX_IVAR_Z' 'FLUX_R'\n",
      " 'FLUX_W1' 'FLUX_W2' 'FLUX_Z' 'LOCATION' 'MASKBITS' 'MORPHTYPE' 'NCOEFF'\n",
      " 'NPIXELS' 'NUMOBS_INIT' 'OBSCONDITIONS' 'PARALLAX' 'PHOTSYS' 'PMDEC'\n",
      " 'PMRA' 'PRIORITY' 'PRIORITY_INIT' 'PSF_TO_FIBER_SPECFLUX' 'RA'\n",
      " 'REF_EPOCH' 'RELEASE' 'SPECTYPE' 'SUBPRIORITY' 'SUBTYPE' 'TARGETID'\n",
      " 'TSNR2_BGS' 'TSNR2_ELG' 'TSNR2_LRG' 'TSNR2_QSO' 'Z' 'ZERR' 'ZWARN']\n"
     ]
    }
   ],
   "source": [
    "columns = np.intersect1d(zbest.colnames, zbest1.colnames)\n",
    "print(columns)\n",
    "zbest = zbest[list(columns)]\n",
    "zbest1 = zbest1[list(columns)]\n",
    "\n",
    "zbest['program'] = 'sv1'\n",
    "zbest1['program'] = 'sv3'"
   ]
  },
  {
   "cell_type": "code",
   "execution_count": 7,
   "metadata": {
    "scrolled": false
   },
   "outputs": [
    {
     "name": "stdout",
     "output_type": "stream",
     "text": [
      "130787 129994\n"
     ]
    }
   ],
   "source": [
    "zbest = vstack([zbest, zbest1])\n",
    "print(len(zbest), len(np.unique(zbest['TARGETID'])))"
   ]
  },
  {
   "cell_type": "code",
   "execution_count": 8,
   "metadata": {
    "scrolled": true
   },
   "outputs": [
    {
     "name": "stdout",
     "output_type": "stream",
     "text": [
      "0.019604394932218033\n",
      "128223 127448\n"
     ]
    }
   ],
   "source": [
    "# Custom DELTACHI2 vs z cut\n",
    "d = (10**(3 - 3.5*zbest['Z']))\n",
    "mask_remove = (d>30) & (zbest['DELTACHI2']<30)\n",
    "mask_remove |= (d<30) & (zbest['DELTACHI2']<d)\n",
    "mask_remove |= (zbest['DELTACHI2']<10)\n",
    "mask_quality = zbest['ZWARN']==0\n",
    "mask_quality &= zbest['Z']<1.4\n",
    "mask_quality &= (~mask_remove)\n",
    "print(np.sum(~mask_quality)/len(mask_quality))\n",
    "\n",
    "zbest = zbest[mask_quality]\n",
    "print(len(zbest), len(np.unique(zbest['TARGETID'])))"
   ]
  },
  {
   "cell_type": "code",
   "execution_count": 9,
   "metadata": {},
   "outputs": [],
   "source": [
    "# # Remove duplicates\n",
    "# _, idx = np.unique(zbest['TARGETID'], return_index=True)\n",
    "# zbest = zbest[idx]\n",
    "# print(len(zbest), len(np.unique(zbest['TARGETID'])))"
   ]
  },
  {
   "cell_type": "markdown",
   "metadata": {},
   "source": [
    "__Add MEDIUM mask__"
   ]
  },
  {
   "cell_type": "code",
   "execution_count": 10,
   "metadata": {},
   "outputs": [
    {
     "name": "stdout",
     "output_type": "stream",
     "text": [
      "1285 0.010021602988543397\n",
      "126938 126164\n"
     ]
    }
   ],
   "source": [
    "maskbits = [8, 9]\n",
    "\n",
    "mask_clean = np.ones(len(zbest), dtype=bool)\n",
    "for bit in maskbits:\n",
    "    mask_clean &= (zbest['MASKBITS'] & 2**bit)==0\n",
    "print(np.sum(~mask_clean), np.sum(~mask_clean)/len(mask_clean))\n",
    "\n",
    "# mask_clean &= (zbest['NOBS_G']>=min_nobs) & (zbest['NOBS_R']>=min_nobs) & (zbest['NOBS_Z']>=min_nobs)\n",
    "# print(np.sum(~mask_clean)/len(mask_clean))\n",
    "\n",
    "zbest = zbest[mask_clean]\n",
    "print(len(zbest), len(np.unique(zbest['TARGETID'])))"
   ]
  },
  {
   "cell_type": "code",
   "execution_count": 11,
   "metadata": {},
   "outputs": [
    {
     "data": {
      "image/png": "[encoded data removed]",
      "text/plain": [
       "<Figure size 1440x720 with 1 Axes>"
      ]
     },
     "metadata": {},
     "output_type": "display_data"
    }
   ],
   "source": [
    "plt.figure(figsize=(20, 10))\n",
    "plt.plot(zbest['RA'], zbest['DEC'], 'r.', ms=.1, label='SV LRGs')\n",
    "plt.xlabel('RA')\n",
    "plt.ylabel('DEC')\n",
    "plt.legend(loc='upper right', markerscale=5)\n",
    "plt.grid(alpha=0.5)\n",
    "plt.gca().invert_xaxis()\n",
    "plt.show()"
   ]
  },
  {
   "cell_type": "code",
   "execution_count": 12,
   "metadata": {},
   "outputs": [],
   "source": [
    "with warnings.catch_warnings():\n",
    "    warnings.simplefilter(\"ignore\")\n",
    "    zbest['gmag'] = 22.5 - 2.5*np.log10(zbest['FLUX_G']) - 3.214 * zbest['EBV']\n",
    "    zbest['rmag'] = 22.5 - 2.5*np.log10(zbest['FLUX_R']) - 2.165 * zbest['EBV']\n",
    "    zbest['zmag'] = 22.5 - 2.5*np.log10(zbest['FLUX_Z']) - 1.211 * zbest['EBV']\n",
    "    zbest['w1mag'] = 22.5 - 2.5*np.log10(zbest['FLUX_W1']) - 0.184 * zbest['EBV']\n",
    "    zbest['w2mag'] = 22.5 - 2.5*np.log10(zbest['FLUX_W2']) - 0.113 * zbest['EBV']\n",
    "    zbest['gfibermag'] = 22.5 - 2.5*np.log10(zbest['FIBERFLUX_G']) - 3.214 * zbest['EBV']\n",
    "    zbest['rfibermag'] = 22.5 - 2.5*np.log10(zbest['FIBERFLUX_R']) - 2.165 * zbest['EBV']\n",
    "    zbest['zfibermag'] = 22.5 - 2.5*np.log10(zbest['FIBERFLUX_Z']) - 1.211 * zbest['EBV']"
   ]
  },
  {
   "cell_type": "code",
   "execution_count": 13,
   "metadata": {},
   "outputs": [],
   "source": [
    "gmag = zbest['gmag']\n",
    "rmag = zbest['rmag']\n",
    "zmag = zbest['zmag']\n",
    "w1mag = zbest['w1mag']\n",
    "w2mag = zbest['w2mag']\n",
    "rfibermag = zbest['rfibermag']\n",
    "zfibermag = zbest['zfibermag']\n",
    "# gaia_g = zbest['GAIA_PHOT_G_MEAN_MAG']\n",
    "\n",
    "mask_north = zbest['PHOTSYS']=='N'\n",
    "mask_south = zbest['PHOTSYS']=='S'"
   ]
  },
  {
   "cell_type": "code",
   "execution_count": 14,
   "metadata": {},
   "outputs": [
    {
     "name": "stdout",
     "output_type": "stream",
     "text": [
      "79453\n"
     ]
    }
   ],
   "source": [
    "# mask_north = zbest['PHOTSYS']=='N'\n",
    "# mask_south = zbest['PHOTSYS']=='S'\n",
    "\n",
    "# South\n",
    "lrg_mask = mask_south.copy()\n",
    "lrg_mask &= zmag - w1mag > 0.8 * (rmag - zmag) - 0.6  # non-stellar cut\n",
    "lrg_mask &= (zfibermag < 21.6)                   # faint limit\n",
    "\n",
    "lrg_mask_sliding = rmag - w1mag > (w1mag - 17.14) * 1.8  # sliding IR cut\n",
    "lrg_mask_sliding &= rmag - w1mag > (w1mag - 16.33) * 1.  # low-z sliding IR cut\n",
    "lrg_mask_sliding |= rmag - w1mag > 3.3\n",
    "lrg_mask &= lrg_mask_sliding\n",
    "\n",
    "mask_lowz = gmag - w1mag > 2.9  # low-z cut\n",
    "mask_lowz |= rmag - w1mag > 1.8  # low-z cut\n",
    "lrg_mask &= mask_lowz\n",
    "\n",
    "# mask_bright = (gaia_g!=0) & (gaia_g < 18)\n",
    "# lrg_mask &= (~mask_bright)\n",
    "\n",
    "# lrg_mask &= (zfibertotmag>17.5)\n",
    "\n",
    "lrg_new_south = lrg_mask.copy()\n",
    "\n",
    "# North\n",
    "lrg_mask = mask_north.copy()\n",
    "lrg_mask &= zmag - w1mag > 0.8 * (rmag - zmag) - 0.6  # non-stellar cut\n",
    "lrg_mask &= (zfibermag < 21.61)                   # faint limit\n",
    "\n",
    "lrg_mask_sliding = rmag - w1mag > (w1mag - 17.13) * 1.83  # sliding IR cut\n",
    "lrg_mask_sliding &= rmag - w1mag > (w1mag - 16.31) * 1.   # low-z sliding IR cut\n",
    "lrg_mask_sliding |= rmag - w1mag > 3.4\n",
    "lrg_mask &= lrg_mask_sliding\n",
    "\n",
    "mask_lowz = gmag - w1mag > 2.97  # low-z cut\n",
    "mask_lowz |= rmag - w1mag > 1.8  # low-z cut\n",
    "lrg_mask &= mask_lowz\n",
    "\n",
    "# mask_bright = (gaia_g!=0) & (gaia_g < 18)\n",
    "# lrg_mask &= (~mask_bright)\n",
    "\n",
    "# lrg_mask &= (zfibertotmag>17.5)\n",
    "\n",
    "lrg_new_north = lrg_mask.copy()\n",
    "\n",
    "lrg_new = lrg_new_south | lrg_new_north\n",
    "print(np.sum(lrg_new))"
   ]
  },
  {
   "cell_type": "code",
   "execution_count": 15,
   "metadata": {},
   "outputs": [
    {
     "name": "stdout",
     "output_type": "stream",
     "text": [
      "(<Column name='program' dtype='str3' length=2>\n",
      "sv1\n",
      "sv3, array([ 9790, 69663]))\n"
     ]
    }
   ],
   "source": [
    "print(np.unique(zbest['program'][lrg_new], return_counts=True))"
   ]
  },
  {
   "cell_type": "code",
   "execution_count": 16,
   "metadata": {},
   "outputs": [],
   "source": [
    "mask = zbest['program']=='sv3'\n",
    "weights = np.ones(len(zbest))\n",
    "weights[mask] = 1/10"
   ]
  },
  {
   "cell_type": "code",
   "execution_count": 17,
   "metadata": {
    "scrolled": true
   },
   "outputs": [
    {
     "name": "stdout",
     "output_type": "stream",
     "text": [
      "609.3000296765259\n",
      "14.4145733993526\n",
      "13.086327936391351\n",
      "27.50090133574395\n"
     ]
    }
   ],
   "source": [
    "# numbers from another notebook\n",
    "area_tot = 10109.0\n",
    "n_lrg_new_tot = 6159414\n",
    "density_tot = n_lrg_new_tot/area_tot\n",
    "print(density_tot)\n",
    "\n",
    "area_south = np.sum(weights[lrg_new_south])/n_lrg_new_tot * area_tot\n",
    "print(area_south)\n",
    "\n",
    "area_north = np.sum(weights[lrg_new_north])/n_lrg_new_tot * area_tot\n",
    "print(area_north)\n",
    "\n",
    "area = area_south + area_north\n",
    "print(area)"
   ]
  },
  {
   "cell_type": "code",
   "execution_count": 18,
   "metadata": {},
   "outputs": [
    {
     "data": {
      "image/png": "[encoded data removed]",
      "text/plain": [
       "<Figure size 1008x417.6 with 2 Axes>"
      ]
     },
     "metadata": {},
     "output_type": "display_data"
    }
   ],
   "source": [
    "# North and south separately\n",
    "\n",
    "bins = np.arange(-0.1, 1.45, 0.05)\n",
    "bin_centers = (bins[1:]+bins[:-1])/2\n",
    "\n",
    "with warnings.catch_warnings():\n",
    "    warnings.simplefilter(\"ignore\")\n",
    "    counts_south, _ = np.histogram(zbest['Z'][lrg_new_south], bins=bins, weights=weights[lrg_new_south])\n",
    "    frac_err_south = 1/np.sqrt(counts_south)  # Poisson error only\n",
    "    counts_north, _ = np.histogram(zbest['Z'][lrg_new_north], bins=bins, weights=weights[lrg_new_north])\n",
    "    frac_err_north = 1/np.sqrt(counts_north)  # Poisson error only\n",
    "    frac_err_south[~np.isfinite(frac_err_south)] = 0\n",
    "    frac_err_north[~np.isfinite(frac_err_north)] = 0\n",
    "    \n",
    "fig, axes = plt.subplots(1, 2, figsize=(14, 5.8))\n",
    "axes[0].errorbar(bin_centers, counts_south/area_south, yerr=frac_err_south*counts_south/area_south, fmt='o', ms=5, color='C0', capsize=3, capthick=1, label='South')\n",
    "axes[0].errorbar(bin_centers, counts_north/area_north, yerr=frac_err_north*counts_north/area_north, fmt='o', ms=5, color='C1', capsize=3, capthick=1, label='North')\n",
    "axes[0].legend(loc='upper left')\n",
    "axes[0].set_xlabel('Redshift')\n",
    "axes[0].set_ylabel('dN/dz')\n",
    "axes[0].set_xlim(-0.1, 1.25)\n",
    "axes[0].set_ylim(0, 80)\n",
    "axes[0].yaxis.set_major_formatter(FormatStrFormatter('%.0f'))\n",
    "axes[0].grid(alpha=0.5)\n",
    "# axes[0].set_ylim(top=30)\n",
    "axes[1] = lrg_plot.plot_comoving_density(zbest['Z'][lrg_new_south], area=area_south, zmin=0.1, zmax=1.45, dz=0.05, axis=[0.1, 1.25, 0, 0.8], xlabel='Redshift', show=False, lw=1.5, color='C0', errorbar=True, weights=weights[lrg_new_south])\n",
    "axes[1] = lrg_plot.plot_comoving_density(zbest['Z'][lrg_new_north], area=area_north, zmin=0.1, zmax=1.45, dz=0.05, axis=[0.1, 1.25, 0, 0.8], xlabel='Redshift', show=False, lw=1.5, color='C1', errorbar=True, weights=weights[lrg_new_north])\n",
    "# plt.legend(loc='lower left')\n",
    "plt.show()"
   ]
  },
  {
   "cell_type": "code",
   "execution_count": 19,
   "metadata": {},
   "outputs": [
    {
     "data": {
      "image/png": "[encoded data removed]",
      "text/plain": [
       "<Figure size 1008x417.6 with 2 Axes>"
      ]
     },
     "metadata": {},
     "output_type": "display_data"
    }
   ],
   "source": [
    "# North and south combined\n",
    "\n",
    "bins = np.arange(-0.1, 1.45, 0.05)\n",
    "bin_centers = (bins[1:]+bins[:-1])/2\n",
    "\n",
    "with warnings.catch_warnings():\n",
    "    warnings.simplefilter(\"ignore\")\n",
    "    counts, _ = np.histogram(zbest['Z'][lrg_new], bins=bins, weights=weights[lrg_new])\n",
    "    frac_err = 1/np.sqrt(counts)  # Poisson error only\n",
    "    frac_err[~np.isfinite(frac_err)] = 0\n",
    "    \n",
    "fig, axes = plt.subplots(1, 2, figsize=(14, 5.8))\n",
    "axes[0].errorbar(bin_centers, counts/area, yerr=frac_err*counts/area, fmt='o', ms=5, color='C0', capsize=3, capthick=1, label='combined north+south')\n",
    "axes[0].legend(loc='upper left')\n",
    "axes[0].set_xlabel('Redshift')\n",
    "axes[0].set_ylabel('dN/dz')\n",
    "axes[0].set_xlim(-0.1, 1.25)\n",
    "axes[0].set_ylim(0, 80)\n",
    "axes[0].yaxis.set_major_formatter(FormatStrFormatter('%.0f'))\n",
    "axes[0].grid(alpha=0.5)\n",
    "# axes[0].set_ylim(top=30)\n",
    "axes[1] = lrg_plot.plot_comoving_density(zbest['Z'][lrg_new], area=area, zmin=0.1, zmax=1.45, dz=0.05, axis=[0.1, 1.25, 0, 0.8], xlabel='Redshift', show=False, lw=1.5, color='C0', errorbar=True, weights=weights[lrg_new])\n",
    "# plt.legend(loc='lower left')\n",
    "plt.show()"
   ]
  },
  {
   "cell_type": "code",
   "execution_count": 20,
   "metadata": {},
   "outputs": [
    {
     "data": {
      "image/png": "[encoded data removed]",
      "text/plain": [
       "<Figure size 360x360 with 1 Axes>"
      ]
     },
     "metadata": {},
     "output_type": "display_data"
    }
   ],
   "source": [
    "# Fractional uncertainty\n",
    "plt.figure(figsize=(5, 5))\n",
    "plt.plot(bin_centers, frac_err_north)\n",
    "plt.plot(bin_centers, frac_err_south)\n",
    "plt.axis([0, 1.2, 0, 0.4])\n",
    "plt.grid(alpha=0.5)"
   ]
  },
  {
   "cell_type": "code",
   "execution_count": 21,
   "metadata": {},
   "outputs": [
    {
     "name": "stdout",
     "output_type": "stream",
     "text": [
      "Stars: 1.7 (0.28%)\n",
      "605.8383249555144\n"
     ]
    },
    {
     "data": {
      "text/html": [
       "<i>Table length=14</i>\n",
       "<table id=\"table46913346903392\" class=\"table-striped table-bordered table-condensed\">\n",
       "<thead><tr><th>zmin</th><th>zmax</th><th>N_z_norm</th><th>N_z</th></tr></thead>\n",
       "<thead><tr><th>float64</th><th>float64</th><th>float64</th><th>float64</th></tr></thead>\n",
       "<tr><td>0.0</td><td>0.1</td><td>0.0011</td><td>0.7</td></tr>\n",
       "<tr><td>0.1</td><td>0.2</td><td>0.0029</td><td>1.8</td></tr>\n",
       "<tr><td>0.2</td><td>0.3</td><td>0.0127</td><td>7.7</td></tr>\n",
       "<tr><td>0.3</td><td>0.4</td><td>0.0476</td><td>29.0</td></tr>\n",
       "<tr><td>0.4</td><td>0.5</td><td>0.0901</td><td>54.9</td></tr>\n",
       "<tr><td>0.5</td><td>0.6</td><td>0.1186</td><td>72.3</td></tr>\n",
       "<tr><td>0.6</td><td>0.7</td><td>0.1503</td><td>91.6</td></tr>\n",
       "<tr><td>0.7</td><td>0.8</td><td>0.1730</td><td>105.4</td></tr>\n",
       "<tr><td>0.8</td><td>0.9</td><td>0.1879</td><td>114.5</td></tr>\n",
       "<tr><td>0.9</td><td>1.0</td><td>0.1275</td><td>77.7</td></tr>\n",
       "<tr><td>1.0</td><td>1.1</td><td>0.0539</td><td>32.8</td></tr>\n",
       "<tr><td>1.1</td><td>1.2</td><td>0.0206</td><td>12.6</td></tr>\n",
       "<tr><td>1.2</td><td>1.3</td><td>0.0064</td><td>3.9</td></tr>\n",
       "<tr><td>1.3</td><td>1.4</td><td>0.0017</td><td>1.1</td></tr>\n",
       "</table>"
      ],
      "text/plain": [
       "<Table length=14>\n",
       "  zmin    zmax  N_z_norm   N_z  \n",
       "float64 float64 float64  float64\n",
       "------- ------- -------- -------\n",
       "    0.0     0.1   0.0011     0.7\n",
       "    0.1     0.2   0.0029     1.8\n",
       "    0.2     0.3   0.0127     7.7\n",
       "    0.3     0.4   0.0476    29.0\n",
       "    0.4     0.5   0.0901    54.9\n",
       "    0.5     0.6   0.1186    72.3\n",
       "    0.6     0.7   0.1503    91.6\n",
       "    0.7     0.8   0.1730   105.4\n",
       "    0.8     0.9   0.1879   114.5\n",
       "    0.9     1.0   0.1275    77.7\n",
       "    1.0     1.1   0.0539    32.8\n",
       "    1.1     1.2   0.0206    12.6\n",
       "    1.2     1.3   0.0064     3.9\n",
       "    1.3     1.4   0.0017     1.1"
      ]
     },
     "execution_count": 21,
     "metadata": {},
     "output_type": "execute_result"
    }
   ],
   "source": [
    "mask_star = (zbest['SPECTYPE']=='STAR') | (zbest['Z']<0.0003)\n",
    "print('Stars: {:.1f} ({:.2f}%)'.format(np.sum(mask_star & lrg_new)/np.sum(lrg_new)*density_tot, np.sum(mask_star & lrg_new)/np.sum(lrg_new)*100))\n",
    "\n",
    "bins = np.round(np.arange(0., 1.5, 0.1), 2)\n",
    "\n",
    "# surface density\n",
    "counts = np.histogram(zbest['Z'][lrg_new & (~mask_star)], bins=bins, weights=weights[lrg_new & (~mask_star)])[0]\n",
    "surf_density = counts/area\n",
    "\n",
    "t = Table()\n",
    "t['zmin'] = bins[:-1]\n",
    "t['zmax'] = bins[1:]\n",
    "t['N_z_norm'] = surf_density/density_tot\n",
    "t['N_z_norm'].format = '%.4f'\n",
    "t['N_z'] = surf_density\n",
    "t['N_z'].format = '%.1f'\n",
    "# t['comoving_density'] = comov_density\n",
    "# t.write('data/lrg_dndz_20210330.txt', format='ascii.commented_header', \n",
    "#        formats={'zmin':'%4.2f', 'zmax':'%4.2f', 'N_z_800':'%.10g', 'N_z_600':'%.10g'},\n",
    "#        overwrite=True)\n",
    "print(np.sum(t['N_z']))\n",
    "t"
   ]
  },
  {
   "cell_type": "code",
   "execution_count": 22,
   "metadata": {},
   "outputs": [
    {
     "name": "stdout",
     "output_type": "stream",
     "text": [
      "598.3000000000001\n"
     ]
    },
    {
     "data": {
      "text/html": [
       "<i>Table length=14</i>\n",
       "<table id=\"table46913346894384\" class=\"table-striped table-bordered table-condensed\">\n",
       "<thead><tr><th>zmin</th><th>zmax</th><th>N_z_norm</th><th>N_z</th></tr></thead>\n",
       "<thead><tr><th>float64</th><th>float64</th><th>float64</th><th>float64</th></tr></thead>\n",
       "<tr><td>0.0</td><td>0.1</td><td>0.0011</td><td>0.7</td></tr>\n",
       "<tr><td>0.1</td><td>0.2</td><td>0.0029</td><td>1.7</td></tr>\n",
       "<tr><td>0.2</td><td>0.3</td><td>0.0127</td><td>7.6</td></tr>\n",
       "<tr><td>0.3</td><td>0.4</td><td>0.0476</td><td>28.6</td></tr>\n",
       "<tr><td>0.4</td><td>0.5</td><td>0.0901</td><td>54.2</td></tr>\n",
       "<tr><td>0.5</td><td>0.6</td><td>0.1186</td><td>71.4</td></tr>\n",
       "<tr><td>0.6</td><td>0.7</td><td>0.1503</td><td>90.4</td></tr>\n",
       "<tr><td>0.7</td><td>0.8</td><td>0.1730</td><td>104.1</td></tr>\n",
       "<tr><td>0.8</td><td>0.9</td><td>0.1879</td><td>113.1</td></tr>\n",
       "<tr><td>0.9</td><td>1.0</td><td>0.1275</td><td>76.7</td></tr>\n",
       "<tr><td>1.0</td><td>1.1</td><td>0.0539</td><td>32.4</td></tr>\n",
       "<tr><td>1.1</td><td>1.2</td><td>0.0206</td><td>12.4</td></tr>\n",
       "<tr><td>1.2</td><td>1.3</td><td>0.0064</td><td>3.8</td></tr>\n",
       "<tr><td>1.3</td><td>1.4</td><td>0.0017</td><td>1.0</td></tr>\n",
       "</table>"
      ],
      "text/plain": [
       "<Table length=14>\n",
       "  zmin    zmax  N_z_norm   N_z  \n",
       "float64 float64 float64  float64\n",
       "------- ------- -------- -------\n",
       "    0.0     0.1   0.0011     0.7\n",
       "    0.1     0.2   0.0029     1.7\n",
       "    0.2     0.3   0.0127     7.6\n",
       "    0.3     0.4   0.0476    28.6\n",
       "    0.4     0.5   0.0901    54.2\n",
       "    0.5     0.6   0.1186    71.4\n",
       "    0.6     0.7   0.1503    90.4\n",
       "    0.7     0.8   0.1730   104.1\n",
       "    0.8     0.9   0.1879   113.1\n",
       "    0.9     1.0   0.1275    76.7\n",
       "    1.0     1.1   0.0539    32.4\n",
       "    1.1     1.2   0.0206    12.4\n",
       "    1.2     1.3   0.0064     3.8\n",
       "    1.3     1.4   0.0017     1.0"
      ]
     },
     "execution_count": 22,
     "metadata": {},
     "output_type": "execute_result"
    }
   ],
   "source": [
    "# Normalize to the total density in lrg_redshift_distributions-sv1_deep.ipynb\n",
    "t1 = t.copy()\n",
    "t1['N_z'] = t1['N_z'] * (598.3/np.sum(t1['N_z']))\n",
    "print(np.sum(t1['N_z']))\n",
    "t1"
   ]
  },
  {
   "cell_type": "markdown",
   "metadata": {},
   "source": [
    "--------\n",
    "# N(z) of nominal exposures"
   ]
  },
  {
   "cell_type": "code",
   "execution_count": 23,
   "metadata": {},
   "outputs": [],
   "source": [
    "comp = Table.read('completeness_vs_redshift.txt', format='ascii.commented_header')"
   ]
  },
  {
   "cell_type": "code",
   "execution_count": 24,
   "metadata": {},
   "outputs": [],
   "source": [
    "comp['incomp_frac'] = 1 - comp['comp_frac']\n",
    "comp = comp[['zmin', 'zmax', 'N_all', 'N_secure', 'incomp_frac']]\n",
    "comp['incomp_frac'].format = '%.4f'"
   ]
  },
  {
   "cell_type": "code",
   "execution_count": 25,
   "metadata": {},
   "outputs": [
    {
     "data": {
      "text/html": [
       "<i>Table length=10</i>\n",
       "<table id=\"table46912564619584\" class=\"table-striped table-bordered table-condensed\">\n",
       "<thead><tr><th>zmin</th><th>zmax</th><th>N_all</th><th>N_secure</th><th>incomp_frac</th></tr></thead>\n",
       "<thead><tr><th>float64</th><th>float64</th><th>int64</th><th>int64</th><th>float64</th></tr></thead>\n",
       "<tr><td>0.3</td><td>0.4</td><td>698</td><td>695</td><td>0.0043</td></tr>\n",
       "<tr><td>0.4</td><td>0.5</td><td>1310</td><td>1293</td><td>0.0130</td></tr>\n",
       "<tr><td>0.5</td><td>0.6</td><td>1675</td><td>1633</td><td>0.0251</td></tr>\n",
       "<tr><td>0.6</td><td>0.7</td><td>2024</td><td>1968</td><td>0.0277</td></tr>\n",
       "<tr><td>0.7</td><td>0.8</td><td>2552</td><td>2444</td><td>0.0423</td></tr>\n",
       "<tr><td>0.8</td><td>0.9</td><td>2555</td><td>2448</td><td>0.0419</td></tr>\n",
       "<tr><td>0.9</td><td>1.0</td><td>1953</td><td>1817</td><td>0.0696</td></tr>\n",
       "<tr><td>1.0</td><td>1.1</td><td>813</td><td>790</td><td>0.0283</td></tr>\n",
       "<tr><td>1.1</td><td>1.2</td><td>334</td><td>320</td><td>0.0419</td></tr>\n",
       "<tr><td>1.2</td><td>1.3</td><td>86</td><td>82</td><td>0.0465</td></tr>\n",
       "</table>"
      ],
      "text/plain": [
       "<Table length=10>\n",
       "  zmin    zmax  N_all N_secure incomp_frac\n",
       "float64 float64 int64  int64     float64  \n",
       "------- ------- ----- -------- -----------\n",
       "    0.3     0.4   698      695      0.0043\n",
       "    0.4     0.5  1310     1293      0.0130\n",
       "    0.5     0.6  1675     1633      0.0251\n",
       "    0.6     0.7  2024     1968      0.0277\n",
       "    0.7     0.8  2552     2444      0.0423\n",
       "    0.8     0.9  2555     2448      0.0419\n",
       "    0.9     1.0  1953     1817      0.0696\n",
       "    1.0     1.1   813      790      0.0283\n",
       "    1.1     1.2   334      320      0.0419\n",
       "    1.2     1.3    86       82      0.0465"
      ]
     },
     "execution_count": 25,
     "metadata": {},
     "output_type": "execute_result"
    }
   ],
   "source": [
    "comp"
   ]
  },
  {
   "cell_type": "code",
   "execution_count": 26,
   "metadata": {},
   "outputs": [
    {
     "data": {
      "text/plain": [
       "0.03642857142857148"
      ]
     },
     "execution_count": 26,
     "metadata": {},
     "output_type": "execute_result"
    }
   ],
   "source": [
    "incomp_frac_fiducial = 1-np.sum(comp['N_secure'])/np.sum(comp['N_all'])\n",
    "incomp_frac_fiducial"
   ]
  },
  {
   "cell_type": "markdown",
   "metadata": {},
   "source": [
    "__efftime = 900s__"
   ]
  },
  {
   "cell_type": "code",
   "execution_count": 29,
   "metadata": {},
   "outputs": [
    {
     "data": {
      "text/plain": [
       "0.02858097944175164"
      ]
     },
     "execution_count": 29,
     "metadata": {},
     "output_type": "execute_result"
    }
   ],
   "source": [
    "incomp_frac = 1-(609.2-23-5)/np.sum(t1['N_z'])\n",
    "incomp_frac"
   ]
  },
  {
   "cell_type": "code",
   "execution_count": 30,
   "metadata": {},
   "outputs": [],
   "source": [
    "comp['incomp_frac_norm'] = comp['incomp_frac'] * incomp_frac / incomp_frac_fiducial"
   ]
  },
  {
   "cell_type": "code",
   "execution_count": 31,
   "metadata": {},
   "outputs": [
    {
     "data": {
      "text/html": [
       "<i>Table length=10</i>\n",
       "<table id=\"table46912564619584\" class=\"table-striped table-bordered table-condensed\">\n",
       "<thead><tr><th>zmin</th><th>zmax</th><th>N_all</th><th>N_secure</th><th>incomp_frac</th><th>incomp_frac_norm</th></tr></thead>\n",
       "<thead><tr><th>float64</th><th>float64</th><th>int64</th><th>int64</th><th>float64</th><th>float64</th></tr></thead>\n",
       "<tr><td>0.3</td><td>0.4</td><td>698</td><td>695</td><td>0.0043</td><td>0.0034</td></tr>\n",
       "<tr><td>0.4</td><td>0.5</td><td>1310</td><td>1293</td><td>0.0130</td><td>0.0102</td></tr>\n",
       "<tr><td>0.5</td><td>0.6</td><td>1675</td><td>1633</td><td>0.0251</td><td>0.0197</td></tr>\n",
       "<tr><td>0.6</td><td>0.7</td><td>2024</td><td>1968</td><td>0.0277</td><td>0.0217</td></tr>\n",
       "<tr><td>0.7</td><td>0.8</td><td>2552</td><td>2444</td><td>0.0423</td><td>0.0332</td></tr>\n",
       "<tr><td>0.8</td><td>0.9</td><td>2555</td><td>2448</td><td>0.0419</td><td>0.0329</td></tr>\n",
       "<tr><td>0.9</td><td>1.0</td><td>1953</td><td>1817</td><td>0.0696</td><td>0.0546</td></tr>\n",
       "<tr><td>1.0</td><td>1.1</td><td>813</td><td>790</td><td>0.0283</td><td>0.0222</td></tr>\n",
       "<tr><td>1.1</td><td>1.2</td><td>334</td><td>320</td><td>0.0419</td><td>0.0329</td></tr>\n",
       "<tr><td>1.2</td><td>1.3</td><td>86</td><td>82</td><td>0.0465</td><td>0.0365</td></tr>\n",
       "</table>"
      ],
      "text/plain": [
       "<Table length=10>\n",
       "  zmin    zmax  N_all N_secure incomp_frac incomp_frac_norm\n",
       "float64 float64 int64  int64     float64       float64     \n",
       "------- ------- ----- -------- ----------- ----------------\n",
       "    0.3     0.4   698      695      0.0043           0.0034\n",
       "    0.4     0.5  1310     1293      0.0130           0.0102\n",
       "    0.5     0.6  1675     1633      0.0251           0.0197\n",
       "    0.6     0.7  2024     1968      0.0277           0.0217\n",
       "    0.7     0.8  2552     2444      0.0423           0.0332\n",
       "    0.8     0.9  2555     2448      0.0419           0.0329\n",
       "    0.9     1.0  1953     1817      0.0696           0.0546\n",
       "    1.0     1.1   813      790      0.0283           0.0222\n",
       "    1.1     1.2   334      320      0.0419           0.0329\n",
       "    1.2     1.3    86       82      0.0465           0.0365"
      ]
     },
     "execution_count": 31,
     "metadata": {},
     "output_type": "execute_result"
    }
   ],
   "source": [
    "comp"
   ]
  },
  {
   "cell_type": "code",
   "execution_count": 32,
   "metadata": {},
   "outputs": [],
   "source": [
    "t2 = t1.copy()\n",
    "t2 = join(t2, comp[['zmin', 'incomp_frac_norm']], keys='zmin', join_type='outer').filled(0)"
   ]
  },
  {
   "cell_type": "code",
   "execution_count": 33,
   "metadata": {},
   "outputs": [
    {
     "data": {
      "text/html": [
       "<i>Table length=14</i>\n",
       "<table id=\"table46913217804032\" class=\"table-striped table-bordered table-condensed\">\n",
       "<thead><tr><th>zmin</th><th>zmax</th><th>N_z_norm</th><th>N_z</th><th>incomp_frac_norm</th></tr></thead>\n",
       "<thead><tr><th>float64</th><th>float64</th><th>float64</th><th>float64</th><th>float64</th></tr></thead>\n",
       "<tr><td>0.0</td><td>0.1</td><td>0.0011</td><td>0.7</td><td>0.0000</td></tr>\n",
       "<tr><td>0.1</td><td>0.2</td><td>0.0029</td><td>1.7</td><td>0.0000</td></tr>\n",
       "<tr><td>0.2</td><td>0.3</td><td>0.0127</td><td>7.6</td><td>0.0000</td></tr>\n",
       "<tr><td>0.3</td><td>0.4</td><td>0.0476</td><td>28.6</td><td>0.0034</td></tr>\n",
       "<tr><td>0.4</td><td>0.5</td><td>0.0901</td><td>54.2</td><td>0.0102</td></tr>\n",
       "<tr><td>0.5</td><td>0.6</td><td>0.1186</td><td>71.4</td><td>0.0197</td></tr>\n",
       "<tr><td>0.6</td><td>0.7</td><td>0.1503</td><td>90.4</td><td>0.0217</td></tr>\n",
       "<tr><td>0.7</td><td>0.8</td><td>0.1730</td><td>104.1</td><td>0.0332</td></tr>\n",
       "<tr><td>0.8</td><td>0.9</td><td>0.1879</td><td>113.1</td><td>0.0329</td></tr>\n",
       "<tr><td>0.9</td><td>1.0</td><td>0.1275</td><td>76.7</td><td>0.0546</td></tr>\n",
       "<tr><td>1.0</td><td>1.1</td><td>0.0539</td><td>32.4</td><td>0.0222</td></tr>\n",
       "<tr><td>1.1</td><td>1.2</td><td>0.0206</td><td>12.4</td><td>0.0329</td></tr>\n",
       "<tr><td>1.2</td><td>1.3</td><td>0.0064</td><td>3.8</td><td>0.0365</td></tr>\n",
       "<tr><td>1.3</td><td>1.4</td><td>0.0017</td><td>1.0</td><td>0.0000</td></tr>\n",
       "</table>"
      ],
      "text/plain": [
       "<Table length=14>\n",
       "  zmin    zmax  N_z_norm   N_z   incomp_frac_norm\n",
       "float64 float64 float64  float64     float64     \n",
       "------- ------- -------- ------- ----------------\n",
       "    0.0     0.1   0.0011     0.7           0.0000\n",
       "    0.1     0.2   0.0029     1.7           0.0000\n",
       "    0.2     0.3   0.0127     7.6           0.0000\n",
       "    0.3     0.4   0.0476    28.6           0.0034\n",
       "    0.4     0.5   0.0901    54.2           0.0102\n",
       "    0.5     0.6   0.1186    71.4           0.0197\n",
       "    0.6     0.7   0.1503    90.4           0.0217\n",
       "    0.7     0.8   0.1730   104.1           0.0332\n",
       "    0.8     0.9   0.1879   113.1           0.0329\n",
       "    0.9     1.0   0.1275    76.7           0.0546\n",
       "    1.0     1.1   0.0539    32.4           0.0222\n",
       "    1.1     1.2   0.0206    12.4           0.0329\n",
       "    1.2     1.3   0.0064     3.8           0.0365\n",
       "    1.3     1.4   0.0017     1.0           0.0000"
      ]
     },
     "execution_count": 33,
     "metadata": {},
     "output_type": "execute_result"
    }
   ],
   "source": [
    "t2"
   ]
  },
  {
   "cell_type": "code",
   "execution_count": 34,
   "metadata": {},
   "outputs": [],
   "source": [
    "t2['N_z_reliable'] = t2['N_z'] * (1-t2['incomp_frac_norm'])"
   ]
  },
  {
   "cell_type": "code",
   "execution_count": 35,
   "metadata": {},
   "outputs": [
    {
     "data": {
      "text/html": [
       "<i>Table length=14</i>\n",
       "<table id=\"table46913217804032\" class=\"table-striped table-bordered table-condensed\">\n",
       "<thead><tr><th>zmin</th><th>zmax</th><th>N_z_norm</th><th>N_z</th><th>incomp_frac_norm</th><th>N_z_reliable</th></tr></thead>\n",
       "<thead><tr><th>float64</th><th>float64</th><th>float64</th><th>float64</th><th>float64</th><th>float64</th></tr></thead>\n",
       "<tr><td>0.0</td><td>0.1</td><td>0.0011</td><td>0.7</td><td>0.0000</td><td>0.7</td></tr>\n",
       "<tr><td>0.1</td><td>0.2</td><td>0.0029</td><td>1.7</td><td>0.0000</td><td>1.7</td></tr>\n",
       "<tr><td>0.2</td><td>0.3</td><td>0.0127</td><td>7.6</td><td>0.0000</td><td>7.6</td></tr>\n",
       "<tr><td>0.3</td><td>0.4</td><td>0.0476</td><td>28.6</td><td>0.0034</td><td>28.5</td></tr>\n",
       "<tr><td>0.4</td><td>0.5</td><td>0.0901</td><td>54.2</td><td>0.0102</td><td>53.7</td></tr>\n",
       "<tr><td>0.5</td><td>0.6</td><td>0.1186</td><td>71.4</td><td>0.0197</td><td>70.0</td></tr>\n",
       "<tr><td>0.6</td><td>0.7</td><td>0.1503</td><td>90.4</td><td>0.0217</td><td>88.5</td></tr>\n",
       "<tr><td>0.7</td><td>0.8</td><td>0.1730</td><td>104.1</td><td>0.0332</td><td>100.6</td></tr>\n",
       "<tr><td>0.8</td><td>0.9</td><td>0.1879</td><td>113.1</td><td>0.0329</td><td>109.3</td></tr>\n",
       "<tr><td>0.9</td><td>1.0</td><td>0.1275</td><td>76.7</td><td>0.0546</td><td>72.5</td></tr>\n",
       "<tr><td>1.0</td><td>1.1</td><td>0.0539</td><td>32.4</td><td>0.0222</td><td>31.7</td></tr>\n",
       "<tr><td>1.1</td><td>1.2</td><td>0.0206</td><td>12.4</td><td>0.0329</td><td>12.0</td></tr>\n",
       "<tr><td>1.2</td><td>1.3</td><td>0.0064</td><td>3.8</td><td>0.0365</td><td>3.7</td></tr>\n",
       "<tr><td>1.3</td><td>1.4</td><td>0.0017</td><td>1.0</td><td>0.0000</td><td>1.0</td></tr>\n",
       "</table>"
      ],
      "text/plain": [
       "<Table length=14>\n",
       "  zmin    zmax  N_z_norm   N_z   incomp_frac_norm N_z_reliable\n",
       "float64 float64 float64  float64     float64        float64   \n",
       "------- ------- -------- ------- ---------------- ------------\n",
       "    0.0     0.1   0.0011     0.7           0.0000          0.7\n",
       "    0.1     0.2   0.0029     1.7           0.0000          1.7\n",
       "    0.2     0.3   0.0127     7.6           0.0000          7.6\n",
       "    0.3     0.4   0.0476    28.6           0.0034         28.5\n",
       "    0.4     0.5   0.0901    54.2           0.0102         53.7\n",
       "    0.5     0.6   0.1186    71.4           0.0197         70.0\n",
       "    0.6     0.7   0.1503    90.4           0.0217         88.5\n",
       "    0.7     0.8   0.1730   104.1           0.0332        100.6\n",
       "    0.8     0.9   0.1879   113.1           0.0329        109.3\n",
       "    0.9     1.0   0.1275    76.7           0.0546         72.5\n",
       "    1.0     1.1   0.0539    32.4           0.0222         31.7\n",
       "    1.1     1.2   0.0206    12.4           0.0329         12.0\n",
       "    1.2     1.3   0.0064     3.8           0.0365          3.7\n",
       "    1.3     1.4   0.0017     1.0           0.0000          1.0"
      ]
     },
     "execution_count": 35,
     "metadata": {},
     "output_type": "execute_result"
    }
   ],
   "source": [
    "t2"
   ]
  },
  {
   "cell_type": "code",
   "execution_count": 36,
   "metadata": {},
   "outputs": [
    {
     "data": {
      "text/plain": [
       "581.6532504579649"
      ]
     },
     "execution_count": 36,
     "metadata": {},
     "output_type": "execute_result"
    }
   ],
   "source": [
    "np.sum(t2['N_z_reliable'])"
   ]
  },
  {
   "cell_type": "markdown",
   "metadata": {},
   "source": [
    "__efftime = 1100s__"
   ]
  },
  {
   "cell_type": "code",
   "execution_count": 37,
   "metadata": {},
   "outputs": [
    {
     "data": {
      "text/plain": [
       "0.01353835868293507"
      ]
     },
     "execution_count": 37,
     "metadata": {},
     "output_type": "execute_result"
    }
   ],
   "source": [
    "incomp_frac = 1-(609.2-14-5)/np.sum(t1['N_z'])\n",
    "incomp_frac"
   ]
  },
  {
   "cell_type": "code",
   "execution_count": 38,
   "metadata": {},
   "outputs": [],
   "source": [
    "comp['incomp_frac_norm'] = comp['incomp_frac'] * incomp_frac / incomp_frac_fiducial"
   ]
  },
  {
   "cell_type": "code",
   "execution_count": 39,
   "metadata": {},
   "outputs": [
    {
     "data": {
      "text/html": [
       "<i>Table length=10</i>\n",
       "<table id=\"table46912564619584\" class=\"table-striped table-bordered table-condensed\">\n",
       "<thead><tr><th>zmin</th><th>zmax</th><th>N_all</th><th>N_secure</th><th>incomp_frac</th><th>incomp_frac_norm</th></tr></thead>\n",
       "<thead><tr><th>float64</th><th>float64</th><th>int64</th><th>int64</th><th>float64</th><th>float64</th></tr></thead>\n",
       "<tr><td>0.3</td><td>0.4</td><td>698</td><td>695</td><td>0.0043</td><td>0.0016</td></tr>\n",
       "<tr><td>0.4</td><td>0.5</td><td>1310</td><td>1293</td><td>0.0130</td><td>0.0048</td></tr>\n",
       "<tr><td>0.5</td><td>0.6</td><td>1675</td><td>1633</td><td>0.0251</td><td>0.0093</td></tr>\n",
       "<tr><td>0.6</td><td>0.7</td><td>2024</td><td>1968</td><td>0.0277</td><td>0.0103</td></tr>\n",
       "<tr><td>0.7</td><td>0.8</td><td>2552</td><td>2444</td><td>0.0423</td><td>0.0157</td></tr>\n",
       "<tr><td>0.8</td><td>0.9</td><td>2555</td><td>2448</td><td>0.0419</td><td>0.0156</td></tr>\n",
       "<tr><td>0.9</td><td>1.0</td><td>1953</td><td>1817</td><td>0.0696</td><td>0.0259</td></tr>\n",
       "<tr><td>1.0</td><td>1.1</td><td>813</td><td>790</td><td>0.0283</td><td>0.0105</td></tr>\n",
       "<tr><td>1.1</td><td>1.2</td><td>334</td><td>320</td><td>0.0419</td><td>0.0156</td></tr>\n",
       "<tr><td>1.2</td><td>1.3</td><td>86</td><td>82</td><td>0.0465</td><td>0.0173</td></tr>\n",
       "</table>"
      ],
      "text/plain": [
       "<Table length=10>\n",
       "  zmin    zmax  N_all N_secure incomp_frac incomp_frac_norm\n",
       "float64 float64 int64  int64     float64       float64     \n",
       "------- ------- ----- -------- ----------- ----------------\n",
       "    0.3     0.4   698      695      0.0043           0.0016\n",
       "    0.4     0.5  1310     1293      0.0130           0.0048\n",
       "    0.5     0.6  1675     1633      0.0251           0.0093\n",
       "    0.6     0.7  2024     1968      0.0277           0.0103\n",
       "    0.7     0.8  2552     2444      0.0423           0.0157\n",
       "    0.8     0.9  2555     2448      0.0419           0.0156\n",
       "    0.9     1.0  1953     1817      0.0696           0.0259\n",
       "    1.0     1.1   813      790      0.0283           0.0105\n",
       "    1.1     1.2   334      320      0.0419           0.0156\n",
       "    1.2     1.3    86       82      0.0465           0.0173"
      ]
     },
     "execution_count": 39,
     "metadata": {},
     "output_type": "execute_result"
    }
   ],
   "source": [
    "comp"
   ]
  },
  {
   "cell_type": "code",
   "execution_count": 40,
   "metadata": {},
   "outputs": [],
   "source": [
    "t2 = t1.copy()\n",
    "t2 = join(t2, comp[['zmin', 'incomp_frac_norm']], keys='zmin', join_type='outer').filled(0)"
   ]
  },
  {
   "cell_type": "code",
   "execution_count": 41,
   "metadata": {},
   "outputs": [
    {
     "data": {
      "text/html": [
       "<i>Table length=14</i>\n",
       "<table id=\"table46913346892992\" class=\"table-striped table-bordered table-condensed\">\n",
       "<thead><tr><th>zmin</th><th>zmax</th><th>N_z_norm</th><th>N_z</th><th>incomp_frac_norm</th></tr></thead>\n",
       "<thead><tr><th>float64</th><th>float64</th><th>float64</th><th>float64</th><th>float64</th></tr></thead>\n",
       "<tr><td>0.0</td><td>0.1</td><td>0.0011</td><td>0.7</td><td>0.0000</td></tr>\n",
       "<tr><td>0.1</td><td>0.2</td><td>0.0029</td><td>1.7</td><td>0.0000</td></tr>\n",
       "<tr><td>0.2</td><td>0.3</td><td>0.0127</td><td>7.6</td><td>0.0000</td></tr>\n",
       "<tr><td>0.3</td><td>0.4</td><td>0.0476</td><td>28.6</td><td>0.0016</td></tr>\n",
       "<tr><td>0.4</td><td>0.5</td><td>0.0901</td><td>54.2</td><td>0.0048</td></tr>\n",
       "<tr><td>0.5</td><td>0.6</td><td>0.1186</td><td>71.4</td><td>0.0093</td></tr>\n",
       "<tr><td>0.6</td><td>0.7</td><td>0.1503</td><td>90.4</td><td>0.0103</td></tr>\n",
       "<tr><td>0.7</td><td>0.8</td><td>0.1730</td><td>104.1</td><td>0.0157</td></tr>\n",
       "<tr><td>0.8</td><td>0.9</td><td>0.1879</td><td>113.1</td><td>0.0156</td></tr>\n",
       "<tr><td>0.9</td><td>1.0</td><td>0.1275</td><td>76.7</td><td>0.0259</td></tr>\n",
       "<tr><td>1.0</td><td>1.1</td><td>0.0539</td><td>32.4</td><td>0.0105</td></tr>\n",
       "<tr><td>1.1</td><td>1.2</td><td>0.0206</td><td>12.4</td><td>0.0156</td></tr>\n",
       "<tr><td>1.2</td><td>1.3</td><td>0.0064</td><td>3.8</td><td>0.0173</td></tr>\n",
       "<tr><td>1.3</td><td>1.4</td><td>0.0017</td><td>1.0</td><td>0.0000</td></tr>\n",
       "</table>"
      ],
      "text/plain": [
       "<Table length=14>\n",
       "  zmin    zmax  N_z_norm   N_z   incomp_frac_norm\n",
       "float64 float64 float64  float64     float64     \n",
       "------- ------- -------- ------- ----------------\n",
       "    0.0     0.1   0.0011     0.7           0.0000\n",
       "    0.1     0.2   0.0029     1.7           0.0000\n",
       "    0.2     0.3   0.0127     7.6           0.0000\n",
       "    0.3     0.4   0.0476    28.6           0.0016\n",
       "    0.4     0.5   0.0901    54.2           0.0048\n",
       "    0.5     0.6   0.1186    71.4           0.0093\n",
       "    0.6     0.7   0.1503    90.4           0.0103\n",
       "    0.7     0.8   0.1730   104.1           0.0157\n",
       "    0.8     0.9   0.1879   113.1           0.0156\n",
       "    0.9     1.0   0.1275    76.7           0.0259\n",
       "    1.0     1.1   0.0539    32.4           0.0105\n",
       "    1.1     1.2   0.0206    12.4           0.0156\n",
       "    1.2     1.3   0.0064     3.8           0.0173\n",
       "    1.3     1.4   0.0017     1.0           0.0000"
      ]
     },
     "execution_count": 41,
     "metadata": {},
     "output_type": "execute_result"
    }
   ],
   "source": [
    "t2"
   ]
  },
  {
   "cell_type": "code",
   "execution_count": 42,
   "metadata": {},
   "outputs": [],
   "source": [
    "t2['N_z_reliable'] = t2['N_z'] * (1-t2['incomp_frac_norm'])"
   ]
  },
  {
   "cell_type": "code",
   "execution_count": 43,
   "metadata": {},
   "outputs": [
    {
     "data": {
      "text/html": [
       "<i>Table length=14</i>\n",
       "<table id=\"table46913346892992\" class=\"table-striped table-bordered table-condensed\">\n",
       "<thead><tr><th>zmin</th><th>zmax</th><th>N_z_norm</th><th>N_z</th><th>incomp_frac_norm</th><th>N_z_reliable</th></tr></thead>\n",
       "<thead><tr><th>float64</th><th>float64</th><th>float64</th><th>float64</th><th>float64</th><th>float64</th></tr></thead>\n",
       "<tr><td>0.0</td><td>0.1</td><td>0.0011</td><td>0.7</td><td>0.0000</td><td>0.7</td></tr>\n",
       "<tr><td>0.1</td><td>0.2</td><td>0.0029</td><td>1.7</td><td>0.0000</td><td>1.7</td></tr>\n",
       "<tr><td>0.2</td><td>0.3</td><td>0.0127</td><td>7.6</td><td>0.0000</td><td>7.6</td></tr>\n",
       "<tr><td>0.3</td><td>0.4</td><td>0.0476</td><td>28.6</td><td>0.0016</td><td>28.6</td></tr>\n",
       "<tr><td>0.4</td><td>0.5</td><td>0.0901</td><td>54.2</td><td>0.0048</td><td>54.0</td></tr>\n",
       "<tr><td>0.5</td><td>0.6</td><td>0.1186</td><td>71.4</td><td>0.0093</td><td>70.7</td></tr>\n",
       "<tr><td>0.6</td><td>0.7</td><td>0.1503</td><td>90.4</td><td>0.0103</td><td>89.5</td></tr>\n",
       "<tr><td>0.7</td><td>0.8</td><td>0.1730</td><td>104.1</td><td>0.0157</td><td>102.5</td></tr>\n",
       "<tr><td>0.8</td><td>0.9</td><td>0.1879</td><td>113.1</td><td>0.0156</td><td>111.3</td></tr>\n",
       "<tr><td>0.9</td><td>1.0</td><td>0.1275</td><td>76.7</td><td>0.0259</td><td>74.7</td></tr>\n",
       "<tr><td>1.0</td><td>1.1</td><td>0.0539</td><td>32.4</td><td>0.0105</td><td>32.1</td></tr>\n",
       "<tr><td>1.1</td><td>1.2</td><td>0.0206</td><td>12.4</td><td>0.0156</td><td>12.2</td></tr>\n",
       "<tr><td>1.2</td><td>1.3</td><td>0.0064</td><td>3.8</td><td>0.0173</td><td>3.8</td></tr>\n",
       "<tr><td>1.3</td><td>1.4</td><td>0.0017</td><td>1.0</td><td>0.0000</td><td>1.0</td></tr>\n",
       "</table>"
      ],
      "text/plain": [
       "<Table length=14>\n",
       "  zmin    zmax  N_z_norm   N_z   incomp_frac_norm N_z_reliable\n",
       "float64 float64 float64  float64     float64        float64   \n",
       "------- ------- -------- ------- ---------------- ------------\n",
       "    0.0     0.1   0.0011     0.7           0.0000          0.7\n",
       "    0.1     0.2   0.0029     1.7           0.0000          1.7\n",
       "    0.2     0.3   0.0127     7.6           0.0000          7.6\n",
       "    0.3     0.4   0.0476    28.6           0.0016         28.6\n",
       "    0.4     0.5   0.0901    54.2           0.0048         54.0\n",
       "    0.5     0.6   0.1186    71.4           0.0093         70.7\n",
       "    0.6     0.7   0.1503    90.4           0.0103         89.5\n",
       "    0.7     0.8   0.1730   104.1           0.0157        102.5\n",
       "    0.8     0.9   0.1879   113.1           0.0156        111.3\n",
       "    0.9     1.0   0.1275    76.7           0.0259         74.7\n",
       "    1.0     1.1   0.0539    32.4           0.0105         32.1\n",
       "    1.1     1.2   0.0206    12.4           0.0156         12.2\n",
       "    1.2     1.3   0.0064     3.8           0.0173          3.8\n",
       "    1.3     1.4   0.0017     1.0           0.0000          1.0"
      ]
     },
     "execution_count": 43,
     "metadata": {},
     "output_type": "execute_result"
    }
   ],
   "source": [
    "t2"
   ]
  },
  {
   "cell_type": "code",
   "execution_count": 44,
   "metadata": {},
   "outputs": [
    {
     "data": {
      "text/plain": [
       "590.4146975853517"
      ]
     },
     "execution_count": 44,
     "metadata": {},
     "output_type": "execute_result"
    }
   ],
   "source": [
    "np.sum(t2['N_z_reliable'])"
   ]
  },
  {
   "cell_type": "code",
   "execution_count": null,
   "metadata": {},
   "outputs": [],
   "source": []
  }
 ],
 "metadata": {
  "kernelspec": {
   "display_name": "DESI 20.7",
   "language": "python",
   "name": "desi-20.7"
  },
  "language_info": {
   "codemirror_mode": {
    "name": "ipython",
    "version": 3
   },
   "file_extension": ".py",
   "mimetype": "text/x-python",
   "name": "python",
   "nbconvert_exporter": "python",
   "pygments_lexer": "ipython3",
   "version": "3.8.3"
  }
 },
 "nbformat": 4,
 "nbformat_minor": 4
}
